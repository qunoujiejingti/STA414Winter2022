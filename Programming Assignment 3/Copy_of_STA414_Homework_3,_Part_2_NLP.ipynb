{
 "cells": [
  {
   "cell_type": "markdown",
   "metadata": {
    "id": "ZBQjOo49-ilX"
   },
   "source": [
    "# Changelog:\n",
    "\n",
    "Last Update: 2022-03-11\n",
    "\n",
    "Changes:\n",
    "\n",
    "1. token_to_index returns `vocab[token]`"
   ]
  },
  {
   "cell_type": "markdown",
   "metadata": {
    "id": "q84Rhsk6FOWx"
   },
   "source": [
    "# Question 2: Natural Language Processing\n",
    "\n",
    "### Total Points: 46\n",
    "\n",
    "### Background:\n",
    "In this question you will fit a set of models with the goal of predicting which text messages (SMS) are spam and which are not. \n",
    "\n",
    "You will be experimenting with a variety of different embedding algorithms followed by Logistic Regression."
   ]
  },
  {
   "cell_type": "code",
   "execution_count": null,
   "metadata": {
    "colab": {
     "base_uri": "https://localhost:8080/"
    },
    "id": "-_9JVHlrC4sg",
    "outputId": "d670ee3e-479e-4835-a5f9-41f9110fce62"
   },
   "outputs": [
    {
     "name": "stdout",
     "output_type": "stream",
     "text": [
      "Collecting datasets\n",
      "  Downloading datasets-2.0.0-py3-none-any.whl (325 kB)\n",
      "\u001b[K     |████████████████████████████████| 325 kB 2.7 MB/s \n",
      "\u001b[?25hCollecting aiohttp\n",
      "  Downloading aiohttp-3.8.1-cp37-cp37m-manylinux_2_5_x86_64.manylinux1_x86_64.manylinux_2_12_x86_64.manylinux2010_x86_64.whl (1.1 MB)\n",
      "\u001b[K     |████████████████████████████████| 1.1 MB 27.2 MB/s \n",
      "\u001b[?25hRequirement already satisfied: pyarrow>=5.0.0 in /usr/local/lib/python3.7/dist-packages (from datasets) (6.0.1)\n",
      "Requirement already satisfied: dill in /usr/local/lib/python3.7/dist-packages (from datasets) (0.3.4)\n",
      "Collecting huggingface-hub<1.0.0,>=0.1.0\n",
      "  Downloading huggingface_hub-0.4.0-py3-none-any.whl (67 kB)\n",
      "\u001b[K     |████████████████████████████████| 67 kB 3.6 MB/s \n",
      "\u001b[?25hRequirement already satisfied: numpy>=1.17 in /usr/local/lib/python3.7/dist-packages (from datasets) (1.21.5)\n",
      "Collecting responses<0.19\n",
      "  Downloading responses-0.18.0-py3-none-any.whl (38 kB)\n",
      "Requirement already satisfied: importlib-metadata in /usr/local/lib/python3.7/dist-packages (from datasets) (4.11.2)\n",
      "Collecting xxhash\n",
      "  Downloading xxhash-3.0.0-cp37-cp37m-manylinux_2_17_x86_64.manylinux2014_x86_64.whl (212 kB)\n",
      "\u001b[K     |████████████████████████████████| 212 kB 6.3 MB/s \n",
      "\u001b[?25hRequirement already satisfied: pandas in /usr/local/lib/python3.7/dist-packages (from datasets) (1.3.5)\n",
      "Collecting fsspec[http]>=2021.05.0\n",
      "  Downloading fsspec-2022.2.0-py3-none-any.whl (134 kB)\n",
      "\u001b[K     |████████████████████████████████| 134 kB 50.7 MB/s \n",
      "\u001b[?25hRequirement already satisfied: packaging in /usr/local/lib/python3.7/dist-packages (from datasets) (21.3)\n",
      "Requirement already satisfied: tqdm>=4.62.1 in /usr/local/lib/python3.7/dist-packages (from datasets) (4.63.0)\n",
      "Requirement already satisfied: multiprocess in /usr/local/lib/python3.7/dist-packages (from datasets) (0.70.12.2)\n",
      "Requirement already satisfied: requests>=2.19.0 in /usr/local/lib/python3.7/dist-packages (from datasets) (2.23.0)\n",
      "Requirement already satisfied: filelock in /usr/local/lib/python3.7/dist-packages (from huggingface-hub<1.0.0,>=0.1.0->datasets) (3.6.0)\n",
      "Requirement already satisfied: pyyaml in /usr/local/lib/python3.7/dist-packages (from huggingface-hub<1.0.0,>=0.1.0->datasets) (3.13)\n",
      "Requirement already satisfied: typing-extensions>=3.7.4.3 in /usr/local/lib/python3.7/dist-packages (from huggingface-hub<1.0.0,>=0.1.0->datasets) (3.10.0.2)\n",
      "Requirement already satisfied: pyparsing!=3.0.5,>=2.0.2 in /usr/local/lib/python3.7/dist-packages (from packaging->datasets) (3.0.7)\n",
      "Requirement already satisfied: urllib3!=1.25.0,!=1.25.1,<1.26,>=1.21.1 in /usr/local/lib/python3.7/dist-packages (from requests>=2.19.0->datasets) (1.24.3)\n",
      "Requirement already satisfied: certifi>=2017.4.17 in /usr/local/lib/python3.7/dist-packages (from requests>=2.19.0->datasets) (2021.10.8)\n",
      "Requirement already satisfied: chardet<4,>=3.0.2 in /usr/local/lib/python3.7/dist-packages (from requests>=2.19.0->datasets) (3.0.4)\n",
      "Requirement already satisfied: idna<3,>=2.5 in /usr/local/lib/python3.7/dist-packages (from requests>=2.19.0->datasets) (2.10)\n",
      "Collecting urllib3!=1.25.0,!=1.25.1,<1.26,>=1.21.1\n",
      "  Downloading urllib3-1.25.11-py2.py3-none-any.whl (127 kB)\n",
      "\u001b[K     |████████████████████████████████| 127 kB 47.0 MB/s \n",
      "\u001b[?25hCollecting frozenlist>=1.1.1\n",
      "  Downloading frozenlist-1.3.0-cp37-cp37m-manylinux_2_5_x86_64.manylinux1_x86_64.manylinux_2_17_x86_64.manylinux2014_x86_64.whl (144 kB)\n",
      "\u001b[K     |████████████████████████████████| 144 kB 44.2 MB/s \n",
      "\u001b[?25hCollecting multidict<7.0,>=4.5\n",
      "  Downloading multidict-6.0.2-cp37-cp37m-manylinux_2_17_x86_64.manylinux2014_x86_64.whl (94 kB)\n",
      "\u001b[K     |████████████████████████████████| 94 kB 2.8 MB/s \n",
      "\u001b[?25hCollecting async-timeout<5.0,>=4.0.0a3\n",
      "  Downloading async_timeout-4.0.2-py3-none-any.whl (5.8 kB)\n",
      "Requirement already satisfied: charset-normalizer<3.0,>=2.0 in /usr/local/lib/python3.7/dist-packages (from aiohttp->datasets) (2.0.12)\n",
      "Collecting asynctest==0.13.0\n",
      "  Downloading asynctest-0.13.0-py3-none-any.whl (26 kB)\n",
      "Collecting aiosignal>=1.1.2\n",
      "  Downloading aiosignal-1.2.0-py3-none-any.whl (8.2 kB)\n",
      "Collecting yarl<2.0,>=1.0\n",
      "  Downloading yarl-1.7.2-cp37-cp37m-manylinux_2_5_x86_64.manylinux1_x86_64.manylinux_2_12_x86_64.manylinux2010_x86_64.whl (271 kB)\n",
      "\u001b[K     |████████████████████████████████| 271 kB 22.6 MB/s \n",
      "\u001b[?25hRequirement already satisfied: attrs>=17.3.0 in /usr/local/lib/python3.7/dist-packages (from aiohttp->datasets) (21.4.0)\n",
      "Requirement already satisfied: zipp>=0.5 in /usr/local/lib/python3.7/dist-packages (from importlib-metadata->datasets) (3.7.0)\n",
      "Requirement already satisfied: pytz>=2017.3 in /usr/local/lib/python3.7/dist-packages (from pandas->datasets) (2018.9)\n",
      "Requirement already satisfied: python-dateutil>=2.7.3 in /usr/local/lib/python3.7/dist-packages (from pandas->datasets) (2.8.2)\n",
      "Requirement already satisfied: six>=1.5 in /usr/local/lib/python3.7/dist-packages (from python-dateutil>=2.7.3->pandas->datasets) (1.15.0)\n",
      "Installing collected packages: multidict, frozenlist, yarl, urllib3, asynctest, async-timeout, aiosignal, fsspec, aiohttp, xxhash, responses, huggingface-hub, datasets\n",
      "  Attempting uninstall: urllib3\n",
      "    Found existing installation: urllib3 1.24.3\n",
      "    Uninstalling urllib3-1.24.3:\n",
      "      Successfully uninstalled urllib3-1.24.3\n",
      "\u001b[31mERROR: pip's dependency resolver does not currently take into account all the packages that are installed. This behaviour is the source of the following dependency conflicts.\n",
      "datascience 0.10.6 requires folium==0.2.1, but you have folium 0.8.3 which is incompatible.\u001b[0m\n",
      "Successfully installed aiohttp-3.8.1 aiosignal-1.2.0 async-timeout-4.0.2 asynctest-0.13.0 datasets-2.0.0 frozenlist-1.3.0 fsspec-2022.2.0 huggingface-hub-0.4.0 multidict-6.0.2 responses-0.18.0 urllib3-1.25.11 xxhash-3.0.0 yarl-1.7.2\n",
      "Collecting en_core_web_md==2.2.5\n",
      "  Downloading https://github.com/explosion/spacy-models/releases/download/en_core_web_md-2.2.5/en_core_web_md-2.2.5.tar.gz (96.4 MB)\n",
      "\u001b[K     |████████████████████████████████| 96.4 MB 1.2 MB/s \n",
      "\u001b[?25hRequirement already satisfied: spacy>=2.2.2 in /usr/local/lib/python3.7/dist-packages (from en_core_web_md==2.2.5) (2.2.4)\n",
      "Requirement already satisfied: tqdm<5.0.0,>=4.38.0 in /usr/local/lib/python3.7/dist-packages (from spacy>=2.2.2->en_core_web_md==2.2.5) (4.63.0)\n",
      "Requirement already satisfied: plac<1.2.0,>=0.9.6 in /usr/local/lib/python3.7/dist-packages (from spacy>=2.2.2->en_core_web_md==2.2.5) (1.1.3)\n",
      "Requirement already satisfied: srsly<1.1.0,>=1.0.2 in /usr/local/lib/python3.7/dist-packages (from spacy>=2.2.2->en_core_web_md==2.2.5) (1.0.5)\n",
      "Requirement already satisfied: setuptools in /usr/local/lib/python3.7/dist-packages (from spacy>=2.2.2->en_core_web_md==2.2.5) (57.4.0)\n",
      "Requirement already satisfied: preshed<3.1.0,>=3.0.2 in /usr/local/lib/python3.7/dist-packages (from spacy>=2.2.2->en_core_web_md==2.2.5) (3.0.6)\n",
      "Requirement already satisfied: numpy>=1.15.0 in /usr/local/lib/python3.7/dist-packages (from spacy>=2.2.2->en_core_web_md==2.2.5) (1.21.5)\n",
      "Requirement already satisfied: murmurhash<1.1.0,>=0.28.0 in /usr/local/lib/python3.7/dist-packages (from spacy>=2.2.2->en_core_web_md==2.2.5) (1.0.6)\n",
      "Requirement already satisfied: thinc==7.4.0 in /usr/local/lib/python3.7/dist-packages (from spacy>=2.2.2->en_core_web_md==2.2.5) (7.4.0)\n",
      "Requirement already satisfied: wasabi<1.1.0,>=0.4.0 in /usr/local/lib/python3.7/dist-packages (from spacy>=2.2.2->en_core_web_md==2.2.5) (0.9.0)\n",
      "Requirement already satisfied: cymem<2.1.0,>=2.0.2 in /usr/local/lib/python3.7/dist-packages (from spacy>=2.2.2->en_core_web_md==2.2.5) (2.0.6)\n",
      "Requirement already satisfied: blis<0.5.0,>=0.4.0 in /usr/local/lib/python3.7/dist-packages (from spacy>=2.2.2->en_core_web_md==2.2.5) (0.4.1)\n",
      "Requirement already satisfied: catalogue<1.1.0,>=0.0.7 in /usr/local/lib/python3.7/dist-packages (from spacy>=2.2.2->en_core_web_md==2.2.5) (1.0.0)\n",
      "Requirement already satisfied: requests<3.0.0,>=2.13.0 in /usr/local/lib/python3.7/dist-packages (from spacy>=2.2.2->en_core_web_md==2.2.5) (2.23.0)\n",
      "Requirement already satisfied: importlib-metadata>=0.20 in /usr/local/lib/python3.7/dist-packages (from catalogue<1.1.0,>=0.0.7->spacy>=2.2.2->en_core_web_md==2.2.5) (4.11.2)\n",
      "Requirement already satisfied: typing-extensions>=3.6.4 in /usr/local/lib/python3.7/dist-packages (from importlib-metadata>=0.20->catalogue<1.1.0,>=0.0.7->spacy>=2.2.2->en_core_web_md==2.2.5) (3.10.0.2)\n",
      "Requirement already satisfied: zipp>=0.5 in /usr/local/lib/python3.7/dist-packages (from importlib-metadata>=0.20->catalogue<1.1.0,>=0.0.7->spacy>=2.2.2->en_core_web_md==2.2.5) (3.7.0)\n",
      "Requirement already satisfied: certifi>=2017.4.17 in /usr/local/lib/python3.7/dist-packages (from requests<3.0.0,>=2.13.0->spacy>=2.2.2->en_core_web_md==2.2.5) (2021.10.8)\n",
      "Requirement already satisfied: urllib3!=1.25.0,!=1.25.1,<1.26,>=1.21.1 in /usr/local/lib/python3.7/dist-packages (from requests<3.0.0,>=2.13.0->spacy>=2.2.2->en_core_web_md==2.2.5) (1.25.11)\n",
      "Requirement already satisfied: idna<3,>=2.5 in /usr/local/lib/python3.7/dist-packages (from requests<3.0.0,>=2.13.0->spacy>=2.2.2->en_core_web_md==2.2.5) (2.10)\n",
      "Requirement already satisfied: chardet<4,>=3.0.2 in /usr/local/lib/python3.7/dist-packages (from requests<3.0.0,>=2.13.0->spacy>=2.2.2->en_core_web_md==2.2.5) (3.0.4)\n",
      "Building wheels for collected packages: en-core-web-md\n",
      "  Building wheel for en-core-web-md (setup.py) ... \u001b[?25l\u001b[?25hdone\n",
      "  Created wheel for en-core-web-md: filename=en_core_web_md-2.2.5-py3-none-any.whl size=98051301 sha256=29390737fa937395ce9b685caf7f8166541d03c9c593069c8ae18945af11e7af\n",
      "  Stored in directory: /tmp/pip-ephem-wheel-cache-sbfwraj_/wheels/69/c5/b8/4f1c029d89238734311b3269762ab2ee325a42da2ce8edb997\n",
      "Successfully built en-core-web-md\n",
      "Installing collected packages: en-core-web-md\n",
      "Successfully installed en-core-web-md-2.2.5\n",
      "\u001b[38;5;2m✔ Download and installation successful\u001b[0m\n",
      "You can now load the model via spacy.load('en_core_web_md')\n",
      "Collecting transformers\n",
      "  Downloading transformers-4.17.0-py3-none-any.whl (3.8 MB)\n",
      "\u001b[K     |████████████████████████████████| 3.8 MB 2.7 MB/s \n",
      "\u001b[?25hRequirement already satisfied: huggingface-hub<1.0,>=0.1.0 in /usr/local/lib/python3.7/dist-packages (from transformers) (0.4.0)\n",
      "Collecting sacremoses\n",
      "  Downloading sacremoses-0.0.49-py3-none-any.whl (895 kB)\n",
      "\u001b[K     |████████████████████████████████| 895 kB 45.5 MB/s \n",
      "\u001b[?25hCollecting pyyaml>=5.1\n",
      "  Downloading PyYAML-6.0-cp37-cp37m-manylinux_2_5_x86_64.manylinux1_x86_64.manylinux_2_12_x86_64.manylinux2010_x86_64.whl (596 kB)\n",
      "\u001b[K     |████████████████████████████████| 596 kB 55.9 MB/s \n",
      "\u001b[?25hRequirement already satisfied: tqdm>=4.27 in /usr/local/lib/python3.7/dist-packages (from transformers) (4.63.0)\n",
      "Requirement already satisfied: requests in /usr/local/lib/python3.7/dist-packages (from transformers) (2.23.0)\n",
      "Requirement already satisfied: filelock in /usr/local/lib/python3.7/dist-packages (from transformers) (3.6.0)\n",
      "Collecting tokenizers!=0.11.3,>=0.11.1\n",
      "  Downloading tokenizers-0.11.6-cp37-cp37m-manylinux_2_12_x86_64.manylinux2010_x86_64.whl (6.5 MB)\n",
      "\u001b[K     |████████████████████████████████| 6.5 MB 42.5 MB/s \n",
      "\u001b[?25hRequirement already satisfied: numpy>=1.17 in /usr/local/lib/python3.7/dist-packages (from transformers) (1.21.5)\n",
      "Requirement already satisfied: importlib-metadata in /usr/local/lib/python3.7/dist-packages (from transformers) (4.11.2)\n",
      "Requirement already satisfied: regex!=2019.12.17 in /usr/local/lib/python3.7/dist-packages (from transformers) (2019.12.20)\n",
      "Requirement already satisfied: packaging>=20.0 in /usr/local/lib/python3.7/dist-packages (from transformers) (21.3)\n",
      "Requirement already satisfied: typing-extensions>=3.7.4.3 in /usr/local/lib/python3.7/dist-packages (from huggingface-hub<1.0,>=0.1.0->transformers) (3.10.0.2)\n",
      "Requirement already satisfied: pyparsing!=3.0.5,>=2.0.2 in /usr/local/lib/python3.7/dist-packages (from packaging>=20.0->transformers) (3.0.7)\n",
      "Requirement already satisfied: zipp>=0.5 in /usr/local/lib/python3.7/dist-packages (from importlib-metadata->transformers) (3.7.0)\n",
      "Requirement already satisfied: chardet<4,>=3.0.2 in /usr/local/lib/python3.7/dist-packages (from requests->transformers) (3.0.4)\n",
      "Requirement already satisfied: idna<3,>=2.5 in /usr/local/lib/python3.7/dist-packages (from requests->transformers) (2.10)\n",
      "Requirement already satisfied: certifi>=2017.4.17 in /usr/local/lib/python3.7/dist-packages (from requests->transformers) (2021.10.8)\n",
      "Requirement already satisfied: urllib3!=1.25.0,!=1.25.1,<1.26,>=1.21.1 in /usr/local/lib/python3.7/dist-packages (from requests->transformers) (1.25.11)\n",
      "Requirement already satisfied: click in /usr/local/lib/python3.7/dist-packages (from sacremoses->transformers) (7.1.2)\n",
      "Requirement already satisfied: six in /usr/local/lib/python3.7/dist-packages (from sacremoses->transformers) (1.15.0)\n",
      "Requirement already satisfied: joblib in /usr/local/lib/python3.7/dist-packages (from sacremoses->transformers) (1.1.0)\n",
      "Installing collected packages: pyyaml, tokenizers, sacremoses, transformers\n",
      "  Attempting uninstall: pyyaml\n",
      "    Found existing installation: PyYAML 3.13\n",
      "    Uninstalling PyYAML-3.13:\n",
      "      Successfully uninstalled PyYAML-3.13\n",
      "Successfully installed pyyaml-6.0 sacremoses-0.0.49 tokenizers-0.11.6 transformers-4.17.0\n"
     ]
    }
   ],
   "source": [
    "!pip install datasets\n",
    "!python -m spacy download en_core_web_md\n",
    "!pip install transformers"
   ]
  },
  {
   "cell_type": "markdown",
   "metadata": {
    "id": "9mbhj24iFMEJ"
   },
   "source": [
    "## Data Loading, Exploratory Data Analysis and Vocabulary Creation:\n"
   ]
  },
  {
   "cell_type": "code",
   "execution_count": null,
   "metadata": {
    "id": "zDe_6kaRCfWs"
   },
   "outputs": [],
   "source": [
    "from datasets import load_dataset\n",
    "from sklearn.model_selection import train_test_split\n",
    "from sklearn.feature_extraction.text import CountVectorizer, TfidfVectorizer, TfidfTransformer\n",
    "from typing import List\n",
    "import numpy as np \n",
    "import pandas as pd\n",
    "from tqdm import tqdm\n",
    "import torch\n",
    "np.random.seed(42)"
   ]
  },
  {
   "cell_type": "code",
   "execution_count": null,
   "metadata": {
    "colab": {
     "base_uri": "https://localhost:8080/",
     "height": 66,
     "referenced_widgets": [
      "4575f7f2c5374d43bb85349abf142431",
      "28de71b3616d4c9cb274660415fa1606",
      "72433fd500b24e7ea6a2c3d0bc282043",
      "d5ac7c28aced4f3f90d9c1a84c45804c",
      "b6d2139aa3154d298df38b0a06b8c6a8",
      "469f3b915acf417384593c5fe18d159f",
      "bdd0b4b2baeb4d9e89f05dcd8c30678a",
      "9d117e651f0b49b7afe66b4e3ad6ceaf",
      "2b92c20d6438403599a8d96a5f241994",
      "8cb26b79c99a4e6ba6570dec09f2a68b",
      "fdfa57271d754952bf967e4130c33bde"
     ]
    },
    "id": "Z-YrzSxEC2Hq",
    "outputId": "093c6a92-0220-46ea-f93b-01061588fcb5"
   },
   "outputs": [
    {
     "name": "stderr",
     "output_type": "stream",
     "text": [
      "Reusing dataset sms_spam (/root/.cache/huggingface/datasets/sms_spam/plain_text/1.0.0/53f051d3b5f62d99d61792c91acefe4f1577ad3e4c216fb0ad39e30b9f20019c)\n"
     ]
    },
    {
     "data": {
      "application/vnd.jupyter.widget-view+json": {
       "model_id": "4575f7f2c5374d43bb85349abf142431",
       "version_major": 2,
       "version_minor": 0
      },
      "text/plain": [
       "  0%|          | 0/1 [00:00<?, ?it/s]"
      ]
     },
     "metadata": {},
     "output_type": "display_data"
    }
   ],
   "source": [
    "dataset = load_dataset(\"sms_spam\")\n",
    "texts = [x[\"sms\"] for x in dataset[\"train\"]]\n",
    "labels = [x[\"label\"] for x in dataset[\"train\"]]"
   ]
  },
  {
   "cell_type": "code",
   "execution_count": null,
   "metadata": {
    "id": "X523_TcvC_4S"
   },
   "outputs": [],
   "source": [
    "X_train, X_m, y_train, y_m = train_test_split(texts, labels, test_size=0.3, random_state=0)\n",
    "X_val, X_test, y_val, y_test = train_test_split(X_m, y_m, test_size = 0.5, random_state=0)"
   ]
  },
  {
   "cell_type": "code",
   "execution_count": null,
   "metadata": {
    "id": "4-MHbxEmE2Hr"
   },
   "outputs": [],
   "source": [
    "def tokenize(x:str) -> List[str]:\n",
    "  \"\"\"\n",
    "  Takes string as an input and returns a list of tokens. This just splits the string x on whitespace\n",
    "  \"\"\"\n",
    "  return x.lower().split(\" \")"
   ]
  },
  {
   "cell_type": "markdown",
   "metadata": {
    "id": "MWyKRONCVFYD"
   },
   "source": [
    "##[ 5 points ] Q2.a: Determine / Answer the following: \n",
    "\n",
    "*   How many datapoints are in the training set?\n",
    "*   How many total tokens are there in the data?\n",
    "*   What % of training examples are spam?\n",
    "*   What would the accuracy be if for every datapoint we predict it is spam? (explain)\n",
    "\n",
    "\n",
    "\n"
   ]
  },
  {
   "cell_type": "code",
   "execution_count": null,
   "metadata": {
    "colab": {
     "base_uri": "https://localhost:8080/"
    },
    "id": "uwa2hfHaqgpg",
    "outputId": "dbe79af6-15d8-49bd-c815-9773c4316fe3"
   },
   "outputs": [
    {
     "name": "stdout",
     "output_type": "stream",
     "text": [
      "87535\n"
     ]
    }
   ],
   "source": [
    "s = 0\n",
    "for text in texts:\n",
    "  s += len(tokenize(text))\n",
    "print(s)"
   ]
  },
  {
   "cell_type": "code",
   "execution_count": null,
   "metadata": {
    "colab": {
     "base_uri": "https://localhost:8080/"
    },
    "id": "CGdr-TRbrljf",
    "outputId": "11bad7e1-8521-4ad2-84fd-039d48a6a64c"
   },
   "outputs": [
    {
     "data": {
      "text/plain": [
       "0.16367980884109917"
      ]
     },
     "execution_count": 23,
     "metadata": {},
     "output_type": "execute_result"
    }
   ],
   "source": [
    "sum(y_test)/len(y_test)"
   ]
  },
  {
   "cell_type": "code",
   "execution_count": null,
   "metadata": {
    "colab": {
     "base_uri": "https://localhost:8080/",
     "height": 36
    },
    "id": "CK7GUMSvruGt",
    "outputId": "a3802553-69fd-4cac-db1a-f384ad35e775"
   },
   "outputs": [
    {
     "data": {
      "application/vnd.google.colaboratory.intrinsic+json": {
       "type": "string"
      },
      "text/plain": [
       "\"Free entry in 2 a wkly comp to win FA Cup final tkts 21st May 2005. Text FA to 87121 to receive entry question(std txt rate)T&C's apply 08452810075over18's\\n\""
      ]
     },
     "execution_count": 20,
     "metadata": {},
     "output_type": "execute_result"
    }
   ],
   "source": [
    "texts[2]"
   ]
  },
  {
   "cell_type": "markdown",
   "metadata": {
    "id": "_N3rtmqQqJCF"
   },
   "source": [
    "Answers:\n",
    "*   How many datapoints are in the training set?\n",
    "\n",
    "As the length of the training set is $3901$, we have $3901$ datapoints.\n",
    "\n",
    "*   How many total tokens are there in the data? $87535$\n",
    "*   What % of training examples are spam? $12.95 \\% $ of training examples are spam.\n",
    "*   What would the accuracy be if for every datapoint we predict it is spam? (explain)\n",
    "\n",
    "It would just be the number of $1$'s in the test set as we denote $1$ as spam and $0$ otherwise, meaning that if we predict all datapoint as spam, then only the $1$'s in the corresponding positions in the test set would be correct. The accuracy then is $16.37 \\% $"
   ]
  },
  {
   "cell_type": "markdown",
   "metadata": {
    "id": "nS6ufPCtGwQp"
   },
   "source": [
    "##[4 points ] Q2.b Vocabulary and Frequencies  "
   ]
  },
  {
   "cell_type": "markdown",
   "metadata": {
    "id": "jyKQsSieGzDk"
   },
   "source": [
    "Implement the functions `create_count_dict`, and `create_vocab` below that take as input a dataset (list of untokenized strings - one per datapoint), and an integer representing the desired vocabulary size, and returns the vocabulary as a `dict` whose keys are tokens and whose values are indices."
   ]
  },
  {
   "cell_type": "code",
   "execution_count": null,
   "metadata": {
    "id": "ACy4z8-oGSEp"
   },
   "outputs": [],
   "source": [
    "def create_count_dict(dataset:List[str]) -> dict:\n",
    "  \"\"\"\n",
    "  Given a dataset, returns a dictionary of token counts with tokens being keys, and counts being values\n",
    "  \"\"\"\n",
    "  count_dict = {}\n",
    "  # TODO\n",
    "  for text in dataset:\n",
    "    tokens = tokenize(text)\n",
    "    for token in tokens:\n",
    "      if token in count_dict:\n",
    "        count_dict[token] += 1\n",
    "      else:\n",
    "        count_dict[token] = 1\n",
    "\n",
    "  return count_dict\n",
    "\n",
    "def create_vocab(dataset:List[str], vocab_size:int) -> dict:\n",
    "  \"\"\"\n",
    "  Given a dataset, returns a dictionary with tokens as keys and indices as values.\n",
    "\n",
    "  {\"token_1\": 1, \"token_2\": 2, ...}\n",
    "  \"\"\"\n",
    "\n",
    "  # TODO: \n",
    "  # 1. Determine the count of all words\n",
    "  count_dict = create_count_dict(dataset)\n",
    "  # 2. Keep the top <vocab_size> tokens\n",
    "  df = pd.DataFrame(data={\"token\": [key for key, _ in count_dict.items()], \n",
    "                          \"count\": [value for _, value in count_dict.items()]}).sort_values(\"count\", ascending=False)[:vocab_size]\n",
    "  \n",
    "  # 3. Create the token to index dict and fill it with just the top tokens\n",
    "  vocab_to_index_dict = {}\n",
    "  for i in range(vocab_size):\n",
    "    token_info = df[[\"token\"]].iloc[i]\n",
    "    vocab_to_index_dict[token_info[0]] = i\n",
    "  return vocab_to_index_dict"
   ]
  },
  {
   "cell_type": "code",
   "execution_count": null,
   "metadata": {
    "id": "ZWgGXqOtnXaU"
   },
   "outputs": [],
   "source": [
    "# Helper test to at least ensure the constructed vocab is the right size\n",
    "for i in np.random.randint(low = 100, high = 500, size = 5):\n",
    "  assert(len(create_vocab(X_train, vocab_size = i)) == i)"
   ]
  },
  {
   "cell_type": "code",
   "execution_count": null,
   "metadata": {
    "id": "CawjqIMXd3X3"
   },
   "outputs": [],
   "source": [
    "# Create and save your vocab\n",
    "student_created_count_dict = create_count_dict(X_train)\n",
    "student_created_vocab = create_vocab(X_train, vocab_size = 500)"
   ]
  },
  {
   "cell_type": "markdown",
   "metadata": {
    "id": "Mx3Q8FkdrDpJ"
   },
   "source": [
    "##[4 points] Q2.c Token Counts"
   ]
  },
  {
   "cell_type": "markdown",
   "metadata": {
    "id": "uns15d63rJS1"
   },
   "source": [
    "### Q2.c.a  Is the distribution of token counts below a relatively heavy-tailed distribution?  Would using only the top 30 tokens be sufficient for most applications?"
   ]
  },
  {
   "cell_type": "code",
   "execution_count": null,
   "metadata": {
    "id": "9F3Sc2vtrBCa"
   },
   "outputs": [],
   "source": [
    "def visualize_top_token_distribution(count_dict, num_tokens_to_plot):\n",
    "  \"\"\"\n",
    "  Display a barplot of counts of top <num_tokens_to_plot> tokens in the <count_dict>\n",
    "  \"\"\"\n",
    "  df = pd.DataFrame(data={\"token\": [key for key, _ in count_dict.items()], \"count\": [value for _, value in count_dict.items()]}).sort_values(\"count\", ascending=False)\n",
    "  df[:num_tokens_to_plot].plot(x = \"token\", y = \"count\", kind=\"bar\")"
   ]
  },
  {
   "cell_type": "code",
   "execution_count": null,
   "metadata": {
    "colab": {
     "base_uri": "https://localhost:8080/",
     "height": 288
    },
    "id": "FFGiXJuQrfHw",
    "outputId": "1bffab59-bb1e-4a4c-badf-95ceebc64062"
   },
   "outputs": [
    {
     "data": {
      "image/png": "[encoded data removed]",
      "text/plain": [
       "<Figure size 432x288 with 1 Axes>"
      ]
     },
     "metadata": {
      "needs_background": "light"
     },
     "output_type": "display_data"
    }
   ],
   "source": [
    "visualize_top_token_distribution(student_created_count_dict, 10)"
   ]
  },
  {
   "cell_type": "code",
   "execution_count": null,
   "metadata": {
    "colab": {
     "base_uri": "https://localhost:8080/",
     "height": 294
    },
    "id": "Bzx51_xpskwS",
    "outputId": "3e26d1f2-cc2d-4ac6-8e93-741512d6abb7"
   },
   "outputs": [
    {
     "data": {
      "image/png": "[encoded data removed]",
      "text/plain": [
       "<Figure size 432x288 with 1 Axes>"
      ]
     },
     "metadata": {
      "needs_background": "light"
     },
     "output_type": "display_data"
    }
   ],
   "source": [
    "visualize_top_token_distribution(student_created_count_dict, 30)"
   ]
  },
  {
   "cell_type": "code",
   "execution_count": null,
   "metadata": {
    "colab": {
     "base_uri": "https://localhost:8080/",
     "height": 317
    },
    "id": "3n6QenP-smAd",
    "outputId": "1fe62094-449c-4cc2-d5b5-0dfb4884c646"
   },
   "outputs": [
    {
     "data": {
      "image/png": "[encoded data removed]",
      "text/plain": [
       "<Figure size 432x288 with 1 Axes>"
      ]
     },
     "metadata": {
      "needs_background": "light"
     },
     "output_type": "display_data"
    }
   ],
   "source": [
    "visualize_top_token_distribution(student_created_count_dict, 100)"
   ]
  },
  {
   "cell_type": "markdown",
   "metadata": {
    "id": "iY8tV0dD-np5"
   },
   "source": [
    "It is quite heavy-tailed as one can see, and only the top 30 tokens have counted for most of the probability. However, most of the top 30 tokens are common words in almost any English sentences, and so it may not be enough for our task, and so not sufficient for most applications."
   ]
  },
  {
   "cell_type": "markdown",
   "metadata": {
    "id": "S4woSRLSt6bt"
   },
   "source": [
    "### Q2.c.b [2 points] Take a look at the top 10 tokens in the plot above, do you think the embeddings based on those tokens will be informative for our task?\n"
   ]
  },
  {
   "cell_type": "markdown",
   "metadata": {
    "id": "QZCCCcILuG5N"
   },
   "source": [
    "No. The top 10 tokens are all common words shown in almost every English sentences, whether or not it is spam or not."
   ]
  },
  {
   "cell_type": "markdown",
   "metadata": {
    "id": "Zx96W-8PtrbV"
   },
   "source": [
    "## Q2.d [ 13 points ] Vocabulary selection and Embeddings"
   ]
  },
  {
   "cell_type": "code",
   "execution_count": null,
   "metadata": {
    "id": "vKCpZXNCH5do"
   },
   "outputs": [],
   "source": [
    "# NOTHING TO DO HERE, JUST SOME CONVENIENCE FUNCTIONS FOR THE FUTURE\n",
    "def index_to_token(index:int, vocabulary:dict) -> str:\n",
    "  \"\"\"\n",
    "  Given an index in the vocabulary, and the vocabulary dict with tokens as keys, and indices as values, returns the token that maps to the given index\n",
    "  \"\"\"\n",
    "  if index > len(vocabulary):\n",
    "    raise ValueError(f\"There is no index {index} in the vocabulary\")\n",
    "  inv_vocabulary = {v: k for k, v in vocabulary.items()}\n",
    "  return inv_vocabulary[index]\n",
    "\n",
    "def token_to_index(token:str, vocabulary:dict) -> int:\n",
    "  \"\"\"\n",
    "  Given a token, return the index of that token in the vocabulary\n",
    "  \"\"\"\n",
    "  token = vocabulary.get(token)\n",
    "  if token is None:\n",
    "    raise ValueError(f\"Token: {token} is not in the vocabulary\")\n",
    "  return vocabulary[token]"
   ]
  },
  {
   "cell_type": "code",
   "execution_count": null,
   "metadata": {
    "id": "E5GFTnNtJhgV"
   },
   "outputs": [],
   "source": [
    "## NOTHING TO DO HERE\n",
    "\n",
    "# BoW with our vocab\n",
    "vectorizer_ours = CountVectorizer(max_features=500, tokenizer=tokenize, vocabulary=student_created_vocab) # Automatic BoW embeddings using your vocab\n",
    "vectorized_data_ours = vectorizer_ours.fit_transform(X_train) # Embedded data\n",
    "\n",
    "# Bow with an auto vocab\n",
    "vectorizer_auto = CountVectorizer(max_features=500) # Automatic BoW embeddings and automatic vocab\n",
    "vectorized_data_auto = vectorizer_auto.fit_transform(X_train) # Embedded data\n",
    "VOCAB = vectorizer_auto.vocabulary_ # For convenience\n",
    "\n",
    "# binary BoW\n",
    "vectorizer_bbow = CountVectorizer(max_features=500, binary=True, vocabulary=VOCAB) # Automatic binary BoW embeddings using the automatically generated vocab above\n",
    "vectorized_data_bbow = vectorizer_bbow.fit_transform(X_train) # Embedded data\n",
    "\n",
    "# TFIDF\n",
    "tfidf_transformer = TfidfTransformer(smooth_idf=False) # TF-IDF transformer for BoW embeddings\n",
    "vectorized_data_tfidf_auto = tfidf_transformer.fit_transform(vectorized_data_auto) # Embedded data"
   ]
  },
  {
   "cell_type": "markdown",
   "metadata": {
    "id": "mQFvomo9urR3"
   },
   "source": [
    "### Q2.d.a [ 2 points ] Implement the function `vocabulary_diff` below. It should return a list of tokens that are in `vocab_1` but not in `vocab_2`."
   ]
  },
  {
   "cell_type": "code",
   "execution_count": null,
   "metadata": {
    "colab": {
     "base_uri": "https://localhost:8080/"
    },
    "id": "6-CScQ3tKGPU",
    "outputId": "633b5f95-f6f2-4bce-cc1c-e7828998ca7a"
   },
   "outputs": [
    {
     "name": "stdout",
     "output_type": "stream",
     "text": [
      "['', 'wil', 'now.\\n', 'it,', '-', '6', 'later\\n', 'no.', 'you.', '+', '.', 'k', \"i'll\", 'r', '5', '3', \"we're\", \"he's\", 'u.', 'yeah,', 'y', '...', 'n', 'lor.\\n', \"i've\", '\\n', 'wif', '£500', \"that's\", '?\\n', 'you\\n', 'g', \"can't\", 'e', 'i', \"i'm\", '1', 'now.', 'makes', 'me.', '!', '&amp;', 'sorry,', '£100', 'took', 'stay', '&lt;decimal&gt;', 'lor...', 'c', 'it.\\n', 'tomorrow\\n', \"there's\", 'now!', '&', 'da.', 'a', \"it's\", 'home.', 'saying', 'me.\\n', '4', \"you're\", \"how's\", 'ok.', 'v', 'day.', '&lt;#&gt;', 'x', 'it.', '?', ',', 'i.ll', 'you,', 'lor.', 'juz', '*', 'needs', 'you!', \"didn't\", '.\\n', 'urgent!', 'u', '2', 'day.\\n', 'b', 'd', 'ü', \"don't\", 'me\\n', '£1000', 'you.\\n', ':)\\n', 'lor...\\n']\n",
      "['www', 'landline', 'yet', 'lar', 'easy', 'cs', 'drive', 'co', 'min', 'line', 'afternoon', 'book', 'didn', 'office', 'fine', 'hours', '150ppm', 've', '000', 'cool', 'times', 'worry', 'hour', 'sir', 'don', 'anyway', 'bored', 'll', 'mob', 'evening', 'online', 'word', 'gt', 'xxx', 'dreams', 'room', 'ah', 'though', 'plz', 'rate', 'feeling', 'plan', 'girl', 'wife', 'amp', 'offer', 'leh', 'bed', 'comes', 'code', 'boy', 'liao', 'pain', 'mail', 'haven', 'urgent', 'okay', 'messages', 'hello', '18', 'pa', 'aight', 'bus', 'busy', 'tmr', 'apply', '10', 'calls', 'problem', 'uk', 'wk', 'weekend', 'dad', 'princess', 'while', '150p', 'thanx', 'lt', 'com', '50', 'house', 'month', 'kiss', 'baby', '16', '1000', 'true', 'haha', 'orange', 'head', 're', 'else', '100']\n"
     ]
    }
   ],
   "source": [
    "# Get the differences between our vocabulary and the automatically generated one\n",
    "\n",
    "def vocabulary_diff(vocab_1:dict, vocab_2:dict) -> List[str]:\n",
    "  \"\"\"\n",
    "  Given 2 vocabularies, returns all the tokens that are present in vocab_1 but not in vocab_2\n",
    "  \"\"\"\n",
    "  vocab_diff = list(set(key for key, _ in vocab_1.items()) - set(key for key, _ in vocab_2.items())) # TODO\n",
    "  return vocab_diff\n",
    "\n",
    "\n",
    "print(vocabulary_diff(student_created_vocab,VOCAB))\n",
    "print(vocabulary_diff(VOCAB, student_created_vocab))"
   ]
  },
  {
   "cell_type": "markdown",
   "metadata": {
    "id": "q3gDDBttvyVW"
   },
   "source": [
    "###  Q2.d.b [3 points] Based on the differences between the two vocabularies, which do you think will represent our datapoints better? Why? "
   ]
  },
  {
   "cell_type": "markdown",
   "metadata": {
    "id": "SSDcv9SYwGJj"
   },
   "source": [
    "The *student_created_vocab* will be better because it includes words like \"urgent!\", \"now!\", \"you!\", which are the ones that normally show up in the spam messages."
   ]
  },
  {
   "cell_type": "code",
   "execution_count": null,
   "metadata": {
    "id": "ZDa_SZbdN1tA"
   },
   "outputs": [],
   "source": [
    "# Some convenience constants\n",
    "DOCUMENT_COUNTS = np.bincount(vectorized_data_bbow.indices, minlength=vectorized_data_bbow.shape[1])\n",
    "NUM_DATAPOINTS = len(X_train)\n",
    "VOCAB = vectorizer_auto.vocabulary_"
   ]
  },
  {
   "cell_type": "markdown",
   "metadata": {
    "id": "BvRheDH8w7lF"
   },
   "source": [
    "### Q2.d.c [3 points] Implement the `idf` function below which returns the inverse document frequency of a given word as defined by:\n",
    "\n",
    "$$ IDF(w_j) = log(\\frac{N}{N_j}) + 1 $$\n",
    "\n",
    "where:\n",
    "\n",
    "* $N$ is the number of datapoints \n",
    "\n",
    "* $N_j$ is the number of occurences of word $w_j$ in the data"
   ]
  },
  {
   "cell_type": "code",
   "execution_count": null,
   "metadata": {
    "id": "V-dlIRAPPzSE"
   },
   "outputs": [],
   "source": [
    "def idf(word:str, document_count:np.ndarray=DOCUMENT_COUNTS, num_datapoints:int=NUM_DATAPOINTS) -> float:\n",
    "  \"\"\"\n",
    "  returns the inverse document frequency of a particular word, based on the IDF definition of\n",
    "\n",
    "  IDF(w_j) = log(N / N_j) + 1\n",
    "\n",
    "  \"\"\"\n",
    "  # TODO\n",
    "  return 1 + np.log(num_datapoints / document_count[VOCAB[word]])\n",
    "  pass"
   ]
  },
  {
   "cell_type": "code",
   "execution_count": null,
   "metadata": {
    "colab": {
     "base_uri": "https://localhost:8080/"
    },
    "id": "7wEYAGnnQi97",
    "outputId": "d484a741-c5a0-4321-bee8-8ab81ce6bee3"
   },
   "outputs": [
    {
     "name": "stdout",
     "output_type": "stream",
     "text": [
      "word: service\n",
      "your idf: 5.58010875539272\n",
      "calculated idf: 5.58010875539272\n",
      "word: forgot\n",
      "your idf: 6.133493993577507\n",
      "calculated idf: 6.133493993577507\n",
      "word: easy\n",
      "your idf: 6.273255935952665\n",
      "calculated idf: 6.273255935952665\n",
      "word: first\n",
      "your idf: 5.555416142802349\n",
      "calculated idf: 5.555416142802349\n",
      "word: or\n",
      "your idf: 3.634198606337407\n",
      "calculated idf: 3.634198606337407\n",
      "word: maybe\n",
      "your idf: 6.324549230340216\n",
      "calculated idf: 6.324549230340216\n",
      "word: really\n",
      "your idf: 5.243636518771507\n",
      "calculated idf: 5.243636518771507\n",
      "word: yeah\n",
      "your idf: 5.158114345333345\n",
      "calculated idf: 5.158114345333345\n",
      "word: time\n",
      "your idf: 4.2583529154104\n",
      "calculated idf: 4.2583529154104\n",
      "word: nothing\n",
      "your idf: 5.901692379520182\n",
      "calculated idf: 5.901692379520182\n",
      "word: stuff\n",
      "your idf: 5.973151343502328\n",
      "calculated idf: 5.973151343502328\n",
      "word: hello\n",
      "your idf: 5.867790827844501\n",
      "calculated idf: 5.867790827844501\n",
      "word: wait\n",
      "your idf: 5.37716791139603\n",
      "calculated idf: 5.37716791139603\n",
      "word: morning\n",
      "your idf: 5.191450765600937\n",
      "calculated idf: 5.191450765600937\n",
      "word: getting\n",
      "your idf: 5.631402049780271\n",
      "calculated idf: 5.631402049780271\n"
     ]
    }
   ],
   "source": [
    "for index in np.random.randint(0,500, size=15).tolist():\n",
    "  print(f\"word: {index_to_token(index, VOCAB)}\")\n",
    "  print(f\"your idf: {idf(index_to_token(index, VOCAB))}\")\n",
    "  print(f\"calculated idf: {tfidf_transformer.idf_[index]}\")\n",
    "  assert np.isclose(tfidf_transformer.idf_[index], idf(index_to_token(index, VOCAB)))"
   ]
  },
  {
   "cell_type": "markdown",
   "metadata": {
    "id": "RIYmBJfkxg50"
   },
   "source": [
    "### Q2.d.d [2 points] Implement a binary Bag of Words embedding function that takes in a list of token and a vocab, and returns a numpy array corresponding to the embedding vector"
   ]
  },
  {
   "cell_type": "code",
   "execution_count": null,
   "metadata": {
    "id": "AvtjwrUyS0lT"
   },
   "outputs": [],
   "source": [
    "def binary_BoW_embedder(list_of_tokens:List[str], vocab:dict) -> np.ndarray:\n",
    "  \"\"\"\n",
    "  Creates a binary Bag of Words embedding of a datapoint represented as a list of tokens, using the vocab\n",
    "  \"\"\"\n",
    "  # Hint: you may want to start with np.zeros()\n",
    "  embedding = np.zeros(len(vocab)) # TODO\n",
    "  for i in range(len(list_of_tokens)):\n",
    "    if list_of_tokens[i] in list(vocab.keys()):\n",
    "      embedding[vocab[list_of_tokens[i]]] = 1\n",
    "  return embedding"
   ]
  },
  {
   "cell_type": "code",
   "execution_count": null,
   "metadata": {
    "colab": {
     "base_uri": "https://localhost:8080/"
    },
    "id": "j5kCOIlVUMrM",
    "outputId": "23cc0fa5-8fc3-4003-9226-2c79eda7b23a"
   },
   "outputs": [
    {
     "name": "stdout",
     "output_type": "stream",
     "text": [
      "text: ['enjoy', 'ah', 'plus', 'going', 'money', 'sweet', 'code', 'pain', 'about', 'long']\n",
      "your embedding: [0. 0. 0. 0. 0. 0. 0. 0. 0. 0. 0. 0. 0. 1. 0. 0. 0. 0. 0. 0. 1. 0. 0. 0.\n",
      " 0. 0. 0. 0. 0. 0. 0. 0. 0. 0. 0. 0. 0. 0. 0. 0. 0. 0. 0. 0. 0. 0. 0. 0.\n",
      " 0. 0. 0. 0. 0. 0. 0. 0. 0. 0. 0. 0. 0. 0. 0. 0. 0. 0. 0. 0. 0. 0. 0. 0.\n",
      " 0. 0. 0. 0. 0. 0. 0. 0. 0. 0. 0. 0. 0. 0. 0. 0. 1. 0. 0. 0. 0. 0. 0. 0.\n",
      " 0. 0. 0. 0. 0. 0. 0. 0. 0. 0. 0. 0. 0. 0. 0. 0. 0. 0. 0. 0. 0. 0. 0. 0.\n",
      " 0. 0. 0. 0. 0. 0. 0. 0. 0. 0. 0. 0. 0. 0. 1. 0. 0. 0. 0. 0. 0. 0. 0. 0.\n",
      " 0. 0. 0. 0. 0. 0. 0. 0. 0. 0. 0. 0. 0. 0. 0. 0. 0. 0. 0. 0. 0. 0. 1. 0.\n",
      " 0. 0. 0. 0. 0. 0. 0. 0. 0. 0. 0. 0. 0. 0. 0. 0. 0. 0. 0. 0. 0. 0. 0. 0.\n",
      " 0. 0. 0. 0. 0. 0. 0. 0. 0. 0. 0. 0. 0. 0. 0. 0. 0. 0. 0. 0. 0. 0. 0. 0.\n",
      " 0. 0. 0. 0. 0. 0. 0. 0. 0. 0. 0. 0. 0. 0. 0. 0. 0. 0. 0. 0. 0. 0. 0. 0.\n",
      " 0. 1. 0. 0. 0. 0. 0. 0. 0. 0. 0. 0. 0. 0. 0. 0. 0. 0. 0. 0. 0. 0. 0. 0.\n",
      " 0. 0. 0. 0. 0. 0. 0. 0. 0. 1. 0. 0. 0. 0. 0. 0. 0. 0. 0. 0. 0. 0. 0. 0.\n",
      " 0. 0. 0. 0. 0. 0. 0. 0. 0. 0. 0. 0. 0. 0. 0. 0. 0. 0. 0. 0. 0. 0. 0. 0.\n",
      " 0. 0. 0. 1. 0. 0. 0. 0. 0. 0. 0. 0. 0. 0. 0. 0. 1. 0. 0. 0. 0. 0. 0. 0.\n",
      " 0. 0. 0. 0. 0. 0. 0. 0. 0. 0. 0. 0. 0. 0. 0. 0. 0. 0. 0. 0. 0. 0. 0. 0.\n",
      " 0. 0. 0. 0. 0. 0. 0. 0. 0. 0. 0. 0. 0. 0. 0. 0. 0. 0. 0. 0. 0. 0. 0. 0.\n",
      " 0. 0. 0. 1. 0. 0. 0. 0. 0. 0. 0. 0. 0. 0. 0. 0. 0. 0. 0. 0. 0. 0. 0. 0.\n",
      " 0. 0. 0. 0. 0. 0. 0. 0. 0. 0. 0. 0. 0. 0. 0. 0. 0. 0. 0. 0. 0. 0. 0. 0.\n",
      " 0. 0. 0. 0. 0. 0. 0. 0. 0. 0. 0. 0. 0. 0. 0. 0. 0. 0. 0. 0. 0. 0. 0. 0.\n",
      " 0. 0. 0. 0. 0. 0. 0. 0. 0. 0. 0. 0. 0. 0. 0. 0. 0. 0. 0. 0. 0. 0. 0. 0.\n",
      " 0. 0. 0. 0. 0. 0. 0. 0. 0. 0. 0. 0. 0. 0. 0. 0. 0. 0. 0. 0.]\n",
      "calculated embedding: [[0 0 0 0 0 0 0 0 0 0 0 0 0 1 0 0 0 0 0 0 1 0 0 0 0 0 0 0 0 0 0 0 0 0 0 0\n",
      "  0 0 0 0 0 0 0 0 0 0 0 0 0 0 0 0 0 0 0 0 0 0 0 0 0 0 0 0 0 0 0 0 0 0 0 0\n",
      "  0 0 0 0 0 0 0 0 0 0 0 0 0 0 0 0 1 0 0 0 0 0 0 0 0 0 0 0 0 0 0 0 0 0 0 0\n",
      "  0 0 0 0 0 0 0 0 0 0 0 0 0 0 0 0 0 0 0 0 0 0 0 0 0 0 1 0 0 0 0 0 0 0 0 0\n",
      "  0 0 0 0 0 0 0 0 0 0 0 0 0 0 0 0 0 0 0 0 0 0 1 0 0 0 0 0 0 0 0 0 0 0 0 0\n",
      "  0 0 0 0 0 0 0 0 0 0 0 0 0 0 0 0 0 0 0 0 0 0 0 0 0 0 0 0 0 0 0 0 0 0 0 0\n",
      "  0 0 0 0 0 0 0 0 0 0 0 0 0 0 0 0 0 0 0 0 0 0 0 0 0 1 0 0 0 0 0 0 0 0 0 0\n",
      "  0 0 0 0 0 0 0 0 0 0 0 0 0 0 0 0 0 0 0 0 0 1 0 0 0 0 0 0 0 0 0 0 0 0 0 0\n",
      "  0 0 0 0 0 0 0 0 0 0 0 0 0 0 0 0 0 0 0 0 0 0 0 0 0 0 0 1 0 0 0 0 0 0 0 0\n",
      "  0 0 0 0 1 0 0 0 0 0 0 0 0 0 0 0 0 0 0 0 0 0 0 0 0 0 0 0 0 0 0 0 0 0 0 0\n",
      "  0 0 0 0 0 0 0 0 0 0 0 0 0 0 0 0 0 0 0 0 0 0 0 0 0 0 0 1 0 0 0 0 0 0 0 0\n",
      "  0 0 0 0 0 0 0 0 0 0 0 0 0 0 0 0 0 0 0 0 0 0 0 0 0 0 0 0 0 0 0 0 0 0 0 0\n",
      "  0 0 0 0 0 0 0 0 0 0 0 0 0 0 0 0 0 0 0 0 0 0 0 0 0 0 0 0 0 0 0 0 0 0 0 0\n",
      "  0 0 0 0 0 0 0 0 0 0 0 0 0 0 0 0 0 0 0 0 0 0 0 0 0 0 0 0 0 0 0 0]]\n",
      "Success!\n",
      "text: ['might', 'remember', 'before', 'stuff', 're', 'com', 'show', 'wait', 'watching', 'trying']\n",
      "Success!\n",
      "text: ['messages', 'txt', 'apply', 'how', 'care', 'tomorrow', 'because', 'service', 'sweet', '10']\n",
      "Success!\n",
      "text: ['talk', 'being', 'dat', 'means', 'orange', 'without', 'heart', 'there', 'join', 'babe']\n",
      "Success!\n",
      "text: ['girl', 'hope', 'wake', 'world', 'miss', 'said', 'on', 'missed', 'way', 'wen']\n",
      "Success!\n",
      "text: ['it', 'mail', 'hear', 'number', 'into', 'if', 'line', 'quite', 'show', 'before']\n",
      "Success!\n",
      "text: ['much', 'though', 'job', 'mail', 'he', 'speak', 'year', 'attempt', 'fuck', 'abt']\n",
      "Success!\n",
      "text: ['oh', 'boy', 'receive', 'please', '1st', 'really', 'dunno', 'yeah', 'enough', 'wife']\n",
      "Success!\n",
      "text: ['bored', 'evening', 'your', 'care', 'text', 'give', 'told', 'nice', 'sorry', 'meet']\n",
      "Success!\n",
      "text: ['xxx', 'left', 'attempt', 'amp', 'enjoy', 'home', 'pls', 'mins', 'today', 'anything']\n",
      "Success!\n",
      "text: ['be', 'this', 'book', 'its', 'not', 'cost', 'gt', 'service', 'is', 'wish']\n",
      "Success!\n",
      "text: ['apply', 'wanna', 'late', 'coz', 'txt', 'wen', 'easy', 'may', '150p', 'join']\n",
      "Success!\n",
      "text: ['man', 'thats', 'sent', 'my', 'than', 'hurt', 'abt', 'remember', 'awarded', 'speak']\n",
      "Success!\n",
      "text: ['well', 'haf', 'bored', 'same', 'left', 'lol', 'been', 'contact', 'sweet', 'kiss']\n",
      "Success!\n",
      "text: ['worry', 'this', 'left', 'line', 'face', 'great', 'an', 'are', 'able', 'get']\n",
      "Success!\n"
     ]
    }
   ],
   "source": [
    "for test_num in range(15):\n",
    "  sample_token_indices = np.random.randint(0,500, size=10)\n",
    "  input_text = [index_to_token(index, VOCAB) for index in sample_token_indices]\n",
    "  input_text_as_str = \" \".join(input_text)\n",
    "  print(f\"text: {input_text}\")\n",
    "  if test_num == 0:\n",
    "    print(f\"your embedding: {binary_BoW_embedder(input_text, VOCAB)}\")\n",
    "    print(f\"calculated embedding: {vectorizer_bbow.transform([input_text_as_str]).toarray()}\")\n",
    "  assert np.isclose(binary_BoW_embedder(input_text, VOCAB), vectorizer_bbow.transform([input_text_as_str]).toarray()).all()\n",
    "  print(\"Success!\")"
   ]
  },
  {
   "cell_type": "markdown",
   "metadata": {
    "id": "9QvHSEz2xzAC"
   },
   "source": [
    "### Q2.d.e [2 points] Implement a Bag of Words embedding function that takes in a list of token and a vocab, and returns a numpy array corresponding to the embedding vector"
   ]
  },
  {
   "cell_type": "code",
   "execution_count": null,
   "metadata": {
    "id": "RnWQOaXKaczA"
   },
   "outputs": [],
   "source": [
    "def BoW_embedder(list_of_tokens, vocab):\n",
    "  \"\"\"\n",
    "  Creates a Bag of Words embedding of a datapoint represented as a list of tokens, using the vocab\n",
    "  \"\"\"\n",
    "  # Hint: You may want to start with np.zeros()\n",
    "  embedding = np.zeros(len(vocab)) # TODO\n",
    "  for i in range(len(list_of_tokens)):\n",
    "    if list_of_tokens[i] in list(vocab.keys()):\n",
    "      embedding[vocab[list_of_tokens[i]]] = list_of_tokens.count(list_of_tokens[i])\n",
    "  return embedding"
   ]
  },
  {
   "cell_type": "code",
   "execution_count": null,
   "metadata": {
    "colab": {
     "base_uri": "https://localhost:8080/"
    },
    "id": "zH4YTsgghcqE",
    "outputId": "1e745986-8c8d-4d2b-a4a2-0d23463d5a14"
   },
   "outputs": [
    {
     "name": "stdout",
     "output_type": "stream",
     "text": [
      "text: ['hope', 'hope', 'hour', 'home', 'home', 'hours', 'holiday', 'hours', 'hour', 'hour']\n",
      "your embedding: [0. 0. 0. 0. 0. 0. 0. 0. 0. 0. 0. 0. 0. 0. 0. 0. 0. 0. 0. 0. 0. 0. 0. 0.\n",
      " 0. 0. 0. 0. 0. 0. 0. 0. 0. 0. 0. 0. 0. 0. 0. 0. 0. 0. 0. 0. 0. 0. 0. 0.\n",
      " 0. 0. 0. 0. 0. 0. 0. 0. 0. 0. 0. 0. 0. 0. 0. 0. 0. 0. 0. 0. 0. 0. 0. 0.\n",
      " 0. 0. 0. 0. 0. 0. 0. 0. 0. 0. 0. 0. 0. 0. 0. 0. 0. 0. 0. 0. 0. 0. 0. 0.\n",
      " 0. 0. 0. 0. 0. 0. 0. 0. 0. 0. 0. 0. 0. 0. 0. 0. 0. 0. 0. 0. 0. 0. 0. 0.\n",
      " 0. 0. 0. 0. 0. 0. 0. 0. 0. 0. 0. 0. 0. 0. 0. 0. 0. 0. 0. 0. 0. 0. 0. 0.\n",
      " 0. 0. 0. 0. 0. 0. 0. 0. 0. 0. 0. 0. 0. 0. 0. 0. 0. 0. 0. 0. 0. 0. 0. 0.\n",
      " 0. 0. 0. 0. 0. 0. 0. 0. 0. 0. 0. 0. 0. 0. 0. 0. 0. 0. 0. 0. 0. 0. 0. 0.\n",
      " 0. 0. 0. 0. 0. 0. 0. 1. 2. 2. 3. 2. 0. 0. 0. 0. 0. 0. 0. 0. 0. 0. 0. 0.\n",
      " 0. 0. 0. 0. 0. 0. 0. 0. 0. 0. 0. 0. 0. 0. 0. 0. 0. 0. 0. 0. 0. 0. 0. 0.\n",
      " 0. 0. 0. 0. 0. 0. 0. 0. 0. 0. 0. 0. 0. 0. 0. 0. 0. 0. 0. 0. 0. 0. 0. 0.\n",
      " 0. 0. 0. 0. 0. 0. 0. 0. 0. 0. 0. 0. 0. 0. 0. 0. 0. 0. 0. 0. 0. 0. 0. 0.\n",
      " 0. 0. 0. 0. 0. 0. 0. 0. 0. 0. 0. 0. 0. 0. 0. 0. 0. 0. 0. 0. 0. 0. 0. 0.\n",
      " 0. 0. 0. 0. 0. 0. 0. 0. 0. 0. 0. 0. 0. 0. 0. 0. 0. 0. 0. 0. 0. 0. 0. 0.\n",
      " 0. 0. 0. 0. 0. 0. 0. 0. 0. 0. 0. 0. 0. 0. 0. 0. 0. 0. 0. 0. 0. 0. 0. 0.\n",
      " 0. 0. 0. 0. 0. 0. 0. 0. 0. 0. 0. 0. 0. 0. 0. 0. 0. 0. 0. 0. 0. 0. 0. 0.\n",
      " 0. 0. 0. 0. 0. 0. 0. 0. 0. 0. 0. 0. 0. 0. 0. 0. 0. 0. 0. 0. 0. 0. 0. 0.\n",
      " 0. 0. 0. 0. 0. 0. 0. 0. 0. 0. 0. 0. 0. 0. 0. 0. 0. 0. 0. 0. 0. 0. 0. 0.\n",
      " 0. 0. 0. 0. 0. 0. 0. 0. 0. 0. 0. 0. 0. 0. 0. 0. 0. 0. 0. 0. 0. 0. 0. 0.\n",
      " 0. 0. 0. 0. 0. 0. 0. 0. 0. 0. 0. 0. 0. 0. 0. 0. 0. 0. 0. 0. 0. 0. 0. 0.\n",
      " 0. 0. 0. 0. 0. 0. 0. 0. 0. 0. 0. 0. 0. 0. 0. 0. 0. 0. 0. 0.]\n",
      "calculated embedding: [[0 0 0 0 0 0 0 0 0 0 0 0 0 0 0 0 0 0 0 0 0 0 0 0 0 0 0 0 0 0 0 0 0 0 0 0\n",
      "  0 0 0 0 0 0 0 0 0 0 0 0 0 0 0 0 0 0 0 0 0 0 0 0 0 0 0 0 0 0 0 0 0 0 0 0\n",
      "  0 0 0 0 0 0 0 0 0 0 0 0 0 0 0 0 0 0 0 0 0 0 0 0 0 0 0 0 0 0 0 0 0 0 0 0\n",
      "  0 0 0 0 0 0 0 0 0 0 0 0 0 0 0 0 0 0 0 0 0 0 0 0 0 0 0 0 0 0 0 0 0 0 0 0\n",
      "  0 0 0 0 0 0 0 0 0 0 0 0 0 0 0 0 0 0 0 0 0 0 0 0 0 0 0 0 0 0 0 0 0 0 0 0\n",
      "  0 0 0 0 0 0 0 0 0 0 0 0 0 0 0 0 0 0 0 1 2 2 3 2 0 0 0 0 0 0 0 0 0 0 0 0\n",
      "  0 0 0 0 0 0 0 0 0 0 0 0 0 0 0 0 0 0 0 0 0 0 0 0 0 0 0 0 0 0 0 0 0 0 0 0\n",
      "  0 0 0 0 0 0 0 0 0 0 0 0 0 0 0 0 0 0 0 0 0 0 0 0 0 0 0 0 0 0 0 0 0 0 0 0\n",
      "  0 0 0 0 0 0 0 0 0 0 0 0 0 0 0 0 0 0 0 0 0 0 0 0 0 0 0 0 0 0 0 0 0 0 0 0\n",
      "  0 0 0 0 0 0 0 0 0 0 0 0 0 0 0 0 0 0 0 0 0 0 0 0 0 0 0 0 0 0 0 0 0 0 0 0\n",
      "  0 0 0 0 0 0 0 0 0 0 0 0 0 0 0 0 0 0 0 0 0 0 0 0 0 0 0 0 0 0 0 0 0 0 0 0\n",
      "  0 0 0 0 0 0 0 0 0 0 0 0 0 0 0 0 0 0 0 0 0 0 0 0 0 0 0 0 0 0 0 0 0 0 0 0\n",
      "  0 0 0 0 0 0 0 0 0 0 0 0 0 0 0 0 0 0 0 0 0 0 0 0 0 0 0 0 0 0 0 0 0 0 0 0\n",
      "  0 0 0 0 0 0 0 0 0 0 0 0 0 0 0 0 0 0 0 0 0 0 0 0 0 0 0 0 0 0 0 0]]\n",
      "Success!\n",
      "text: ['hour', 'hour', 'hour', 'hope', 'home', 'hour', 'holiday', 'holiday', 'holiday', 'holiday']\n",
      "Success!\n",
      "text: ['hope', 'holiday', 'hour', 'hours', 'holiday', 'hope', 'hope', 'holiday', 'hours', 'holiday']\n",
      "Success!\n",
      "text: ['hope', 'home', 'hour', 'hope', 'holiday', 'hour', 'holiday', 'holiday', 'home', 'hour']\n",
      "Success!\n",
      "text: ['hour', 'home', 'hope', 'holiday', 'hours', 'holiday', 'holiday', 'hope', 'holiday', 'home']\n",
      "Success!\n",
      "text: ['home', 'hour', 'hours', 'holiday', 'holiday', 'hope', 'home', 'hours', 'hour', 'home']\n",
      "Success!\n",
      "text: ['hour', 'hope', 'hope', 'holiday', 'hours', 'hour', 'home', 'hope', 'holiday', 'holiday']\n",
      "Success!\n",
      "text: ['hour', 'hope', 'hours', 'hope', 'hour', 'hour', 'hope', 'hour', 'hope', 'home']\n",
      "Success!\n",
      "text: ['hope', 'hope', 'hour', 'hour', 'holiday', 'holiday', 'home', 'holiday', 'hope', 'hour']\n",
      "Success!\n",
      "text: ['holiday', 'holiday', 'home', 'home', 'hope', 'hour', 'home', 'holiday', 'hour', 'hour']\n",
      "Success!\n",
      "text: ['holiday', 'home', 'holiday', 'hour', 'hours', 'hours', 'hope', 'holiday', 'holiday', 'hope']\n",
      "Success!\n",
      "text: ['hope', 'hope', 'hour', 'holiday', 'hour', 'hope', 'holiday', 'hour', 'hour', 'hope']\n",
      "Success!\n",
      "text: ['holiday', 'hope', 'holiday', 'hours', 'home', 'home', 'home', 'hope', 'hours', 'holiday']\n",
      "Success!\n",
      "text: ['hour', 'holiday', 'hour', 'holiday', 'hours', 'hour', 'hope', 'holiday', 'holiday', 'hour']\n",
      "Success!\n",
      "text: ['hope', 'hope', 'hours', 'hope', 'hope', 'hope', 'home', 'hours', 'holiday', 'hour']\n",
      "Success!\n"
     ]
    }
   ],
   "source": [
    "for test_num in range(15):\n",
    "  sample_token_indices = np.random.randint(199,204, size=10)\n",
    "  input_text = [index_to_token(index, VOCAB) for index in sample_token_indices]\n",
    "  input_text_as_str = \" \".join(input_text)\n",
    "  print(f\"text: {input_text}\")\n",
    "  if test_num == 0:\n",
    "    print(f\"your embedding: {BoW_embedder(input_text, VOCAB)}\")\n",
    "    print(f\"calculated embedding: {vectorizer_auto.transform([input_text_as_str]).toarray()}\")\n",
    "  assert np.isclose(BoW_embedder(input_text, VOCAB), vectorizer_auto.transform([input_text_as_str]).toarray()).all()\n",
    "  print(\"Success!\")"
   ]
  },
  {
   "cell_type": "markdown",
   "metadata": {
    "id": "c_2Ff_JaiJ8_"
   },
   "source": [
    "##Q2.e [11 points] Model Fitting"
   ]
  },
  {
   "cell_type": "code",
   "execution_count": null,
   "metadata": {
    "id": "7xkV3-sphmKl"
   },
   "outputs": [],
   "source": [
    "from sklearn.linear_model import LogisticRegression\n",
    "from sklearn.metrics import accuracy_score"
   ]
  },
  {
   "cell_type": "code",
   "execution_count": null,
   "metadata": {
    "id": "Bkq8Wnm7jSCn"
   },
   "outputs": [],
   "source": [
    "logreg_auto = LogisticRegression(random_state=1).fit(vectorized_data_auto, y_train)\n",
    "logreg_bbow = LogisticRegression(random_state=1).fit(vectorized_data_bbow, y_train)\n",
    "logreg_tfidf = LogisticRegression(random_state=1).fit(vectorized_data_tfidf_auto, y_train)"
   ]
  },
  {
   "cell_type": "markdown",
   "metadata": {
    "id": "x166D5jgzcXD"
   },
   "source": [
    "### Q2.e.a [3 points] Evaluation Metrics\n",
    "Below you can see a set of simple accuracy scores: \n",
    "\n",
    "https://scikit-learn.org/stable/modules/model_evaluation.html#accuracy-score\n",
    "\n",
    "In what situation would accuracy be a good evaluation metric? In what situation it wouldn't? "
   ]
  },
  {
   "cell_type": "code",
   "execution_count": null,
   "metadata": {
    "colab": {
     "base_uri": "https://localhost:8080/"
    },
    "collapsed": true,
    "id": "rBmtzT6dlmKo",
    "outputId": "1a6509ed-69d1-48e2-ae77-9adb8b45dc66"
   },
   "outputs": [
    {
     "name": "stdout",
     "output_type": "stream",
     "text": [
      " All 1s; accuracy on validation data: 0.1255980861244019\n",
      " All 0s; accuracy on validation data: 0.8744019138755981\n",
      " Logistic Regression on BoW embedding; accuracy on validation data: 0.9772727272727273\n",
      " Logistic Regression on binary BoW embedding; accuracy on validation data: 0.9808612440191388\n",
      " Logistic Regression on TF-IDF embedding; accuracy on validation data: 0.972488038277512\n"
     ]
    }
   ],
   "source": [
    "print(f\" All 1s; accuracy on validation data: {accuracy_score(y_val, np.ones_like(y_val))}\")\n",
    "\n",
    "print(f\" All 0s; accuracy on validation data: {accuracy_score(y_val, np.zeros_like(y_val))}\")\n",
    "\n",
    "print(f\" Logistic Regression on BoW embedding; accuracy on validation data: {accuracy_score(y_val, logreg_auto.predict(vectorizer_auto.transform(X_val)))}\")\n",
    "\n",
    "print(f\" Logistic Regression on binary BoW embedding; accuracy on validation data: {accuracy_score(y_val, logreg_bbow.predict(vectorizer_bbow.transform(X_val)))}\")\n",
    "\n",
    "print(f\" Logistic Regression on TF-IDF embedding; accuracy on validation data: {accuracy_score(y_val, logreg_tfidf.predict(tfidf_transformer.transform(vectorizer_auto.transform(X_val))))}\")\n"
   ]
  },
  {
   "cell_type": "markdown",
   "metadata": {
    "id": "f3gZZYLy0f37"
   },
   "source": [
    "When the datasets are not balanced, i.e., the classes are not represented equally, the accuracy score would not be a good evaluation metric, and when the datasets are balanced, it is a good evaluation metric."
   ]
  },
  {
   "cell_type": "markdown",
   "metadata": {
    "id": "1OWMNrwD0hwR"
   },
   "source": [
    "### Q2.e.b [8 points] Answer the following in one-two sentences (2 points each)\n",
    "\n",
    "* What is the interpretation of coefficient $\\beta_j$ with $j > 1$ (so not the intercept) in the Logistic regression model fit on the binary BoW embeddings?\n",
    "\n",
    "* What is the interpretation of coefficient $\\beta_j$ with $j > 1$ (so not the intercept) in the Logistic regression model fit on the BoW embeddings?\n",
    "\n",
    "* If we were to include 1-st order interaction terms in our Logistic Regression model fit on binary BoW embeddings, what would be the interpretation of a coefficient for that interaction ?\n",
    "\n",
    "* Is the above different from fitting a Logistic Regression on a combination of unigrams and bigrams (1-grams, and 2-grams)? Explain."
   ]
  },
  {
   "cell_type": "markdown",
   "metadata": {
    "id": "JB4UdDyj11C_"
   },
   "source": [
    "* With the presence of word j, the average change of logit being the spam text on the binary BoW embeddings is $β_j$.\n",
    "* As one unit increases in the value of the BoW embeddings, the average change of logit of being the spam text on the BoW embeddings is $\\beta_j$.\n",
    "* The interpretation of a coefficient for that interaction can be thought as when two words show up at the same time, the average change of logit on the binary BoW embeddings. \n",
    "* Since the unigrams are for a single word, which is the first two cases, and bigrams are for two words together, which is the third case (interaction terms). Therefore, the interpretation of the combination model is the same as above."
   ]
  },
  {
   "cell_type": "markdown",
   "metadata": {
    "id": "YFZJTJ9msv_V"
   },
   "source": [
    "## Q2.f [4 points] Word Vectors\n",
    "\n",
    "Below we will be using a set of pre-trained word embeddings from the SpaCy library. For the purpose of the questions below, assume that they were trained\n",
    "using a Skip-Gram objective as described in lecture."
   ]
  },
  {
   "cell_type": "code",
   "execution_count": null,
   "metadata": {
    "id": "9vllrC6GmURD"
   },
   "outputs": [],
   "source": [
    "# This installs a full pipeline of tokenizer -> embedder with additional components.\n",
    "\n",
    "import spacy\n",
    "spacy_pipeline = spacy.load('en_core_web_md') # If this line produces an error,\n",
    "# you might need to re-start the runtime after running the first cell."
   ]
  },
  {
   "cell_type": "markdown",
   "metadata": {
    "id": "MHMjDoj22TiQ"
   },
   "source": [
    "### Q2.f.a [2 points] Implement the function get_document_embedding_from_spacy below to return the document embedding as the average of all vector embeddings.\n",
    "\n",
    "You are not allowed to use `tokens.vector` in your functions, but you can check against it that your solution is accurate"
   ]
  },
  {
   "cell_type": "code",
   "execution_count": null,
   "metadata": {
    "id": "Lt-s7xVZm_5t"
   },
   "outputs": [],
   "source": [
    "def get_document_embedding_from_spacy(text:str) -> np.ndarray:\n",
    "  \"\"\"\n",
    "  returns the embedding vector representing the entire text by averaging the \n",
    "  word level embeddings.\n",
    "\n",
    "  !! DO NOT USE tokens.vector directly!! \n",
    "  \"\"\"\n",
    "  tokens = spacy_pipeline(text)\n",
    "\n",
    "  # Hint: you can iterate over each token in `tokens` and access the underlying vector with .vector\n",
    "  document_embedding = np.zeros(len(tokens[0].vector))\n",
    "  for token in tokens:\n",
    "    document_embedding += token.vector\n",
    "  document_embedding = document_embedding / len(tokens)\n",
    "  return document_embedding"
   ]
  },
  {
   "cell_type": "code",
   "execution_count": null,
   "metadata": {
    "colab": {
     "base_uri": "https://localhost:8080/"
    },
    "id": "AWf-PZXlp2Do",
    "outputId": "a993d059-8a54-46d5-a482-437b055e1965"
   },
   "outputs": [
    {
     "name": "stdout",
     "output_type": "stream",
     "text": [
      "text: ['money', 'sweet', 'code', 'pain', 'about', 'long', 'might', 'remember', 'before', 'stuff']\n",
      "your embedding: [-1.06683496e-01  2.10446421e-01 -2.65663899e-01  8.80070142e-03\n",
      " -1.20500959e-02  3.31952996e-02 -2.19533004e-02 -1.39289572e-01\n",
      "  1.49224799e-01  2.27879602e+00 -2.43725107e-01  6.56326000e-02\n",
      "  1.23016903e-01 -1.04415599e-01 -1.75938001e-01 -1.14011588e-01\n",
      " -4.22801018e-02  1.02470598e+00 -1.32739798e-01  4.28650939e-02\n",
      "  1.25979902e-01  2.06488986e-02 -1.39824898e-01 -5.13607307e-02\n",
      " -1.29056800e-01 -3.46067605e-02  1.37392095e-01 -1.50759302e-01\n",
      "  1.60280859e-01 -9.58130993e-02 -2.57375210e-02 -1.30341300e-02\n",
      "  1.51485987e-02 -1.90062312e-02  1.43359898e-01  4.87049997e-02\n",
      " -3.03401207e-02  8.35300979e-02 -1.14900399e-01  9.38732982e-02\n",
      " -1.21561017e-02  1.05218501e-01  3.62546701e-02 -8.42121098e-02\n",
      "  1.95649993e-02  2.43968701e-01 -1.37654100e-01 -8.51076972e-02\n",
      "  2.52497004e-02  1.60060115e-03 -2.07404583e-01  4.42915011e-02\n",
      "  6.78589903e-03  7.90099427e-04  1.44485104e-01 -9.50440973e-02\n",
      " -3.22653829e-02 -1.47237996e-01 -3.32215011e-02 -6.12580692e-02\n",
      " -8.91805997e-02 -1.59096002e-01 -8.83691989e-02  1.92675399e-01\n",
      "  2.92448500e-01 -1.68824497e-01  3.01070027e-03  1.90961280e-01\n",
      "  7.71234982e-02  1.50012004e-01  1.64587498e-01  7.61522997e-02\n",
      "  2.35864402e-01 -1.86547013e-02  2.65480798e-01  1.53414759e-01\n",
      "  2.36168295e-01  4.86256890e-03 -1.75131300e-01  2.32327002e-01\n",
      "  4.52372968e-02  9.59309008e-02 -2.23675199e-01 -7.17496969e-02\n",
      " -8.98093986e-02 -2.73009994e-01  3.48254801e-01 -2.07957799e-01\n",
      "  2.88362701e-01 -1.05245337e-03 -1.01275601e-01 -2.33473998e-02\n",
      " -2.11982503e-01 -8.47787013e-02  6.64173998e-02  5.50505992e-02\n",
      " -2.91609032e-02 -8.72293013e-02  2.38625096e-02 -9.52233495e-02\n",
      " -9.54889730e-03 -3.07543002e-02 -7.90406032e-02  1.76866772e-03\n",
      "  1.71650901e-01 -8.13871002e-01  1.11263699e-01  3.36628998e-02\n",
      " -5.04250410e-02  2.43318001e-02 -1.66542996e-02 -1.95671197e-01\n",
      "  1.25956498e-01  1.41591020e-02 -2.84341989e-02 -4.32549398e-02\n",
      " -7.44798495e-02  1.10470009e-02 -5.33651764e-02  3.02935212e-02\n",
      "  1.45862198e-01 -1.30114797e-01 -1.04863100e-01  1.32392797e-01\n",
      "  5.19870020e-02  2.83472996e-02 -1.50336973e-02 -1.05409000e-01\n",
      " -4.98649813e-03 -5.03140990e-02  3.24819601e-02 -7.40811013e-02\n",
      " -8.79997009e-02 -1.75136004e-02  2.10032598e-01 -8.04864844e-02\n",
      " -7.98401015e-02  6.02282996e-02  1.06780987e-02  8.51493984e-02\n",
      " -1.86670200e+00  5.39031010e-02  2.32335901e-01 -4.11400944e-04\n",
      " -7.16198985e-02 -1.20625800e-01 -1.79314369e-01  2.14746501e-01\n",
      " -1.17365991e-02 -5.68030009e-02  9.24840033e-02  8.89616522e-02\n",
      " -9.16598178e-04 -5.68304993e-02 -2.02272300e-01 -2.19587694e-01\n",
      "  6.37241984e-02  4.14925987e-02 -8.22055574e-02 -9.00696777e-04\n",
      " -7.81625994e-02  8.34492970e-02 -6.57223972e-02 -4.54669669e-03\n",
      " -1.02060407e-01 -1.09055898e-01  1.87827320e-01  3.48575039e-02\n",
      "  1.35958600e-01 -1.03756298e-01 -2.84370990e-02 -1.14094997e-02\n",
      "  9.00193021e-02 -1.91786429e-01 -4.42198973e-02  1.26580701e-01\n",
      " -1.10782391e-01 -6.11161538e-03  1.75081460e-01  1.11279190e-02\n",
      "  2.79819999e-02 -2.73111098e-01 -2.67847300e-02  4.06451578e-02\n",
      "  6.60886277e-02 -2.77520317e-02 -2.54928000e-01 -1.12172190e-01\n",
      "  5.49275580e-02  8.08135993e-02  4.52519000e-02  3.95529883e-02\n",
      " -1.42157403e-01  1.53291997e-02  1.12930999e-01  1.07781752e-01\n",
      "  8.39131949e-02 -1.51270900e-01  4.47937969e-02  2.48520499e-01\n",
      "  4.19732012e-02 -1.56188000e-01 -1.69345696e-01 -6.60894308e-03\n",
      " -6.06368405e-02  8.55313987e-02  5.04989577e-02  2.92540379e-03\n",
      "  1.18835199e-01  1.06984402e-01 -2.90107642e-02 -1.11792203e-01\n",
      " -6.15737988e-02 -1.51843003e-01  7.94802040e-02 -6.77061044e-02\n",
      " -6.12633103e-03  1.65936016e-03 -3.10547097e-01 -3.22404034e-02\n",
      "  9.56350021e-02  7.05064999e-02 -2.38332101e-01  1.42351020e-02\n",
      " -7.92506993e-02 -3.34394298e-02  4.28074017e-02  9.90409985e-02\n",
      " -2.14289978e-02  8.29470020e-02 -1.96227022e-02  6.93419017e-02\n",
      "  1.18145599e-01  4.00626908e-02 -6.23184991e-02 -7.70319004e-02\n",
      " -1.85975885e-02 -1.65490013e-02 -1.46906101e-01  1.77003399e-01\n",
      "  9.54225119e-03 -1.01434700e-01 -7.04470037e-02  9.21447998e-02\n",
      "  1.56643727e-01 -1.08028900e-01 -1.36416201e-01 -1.08347620e-01\n",
      " -6.72907924e-02  2.07685998e-01  4.00536045e-02 -8.28645028e-02\n",
      "  6.98605932e-03  4.12034012e-02  6.21389877e-03  2.32872001e-01\n",
      " -1.27783641e-01 -1.66528863e-01  9.76337038e-02  2.27129304e-01\n",
      "  6.09736010e-02  2.39166309e-02 -2.27276901e-02  1.71080617e-01\n",
      "  1.88682904e-01  1.34229298e-01 -1.38658502e-01  1.18785548e-01\n",
      "  4.17050499e-01  6.18857829e-02  1.10821903e-01 -2.76280616e-02\n",
      " -1.43063604e-01 -2.27357806e-01 -1.73845700e-01  1.84931997e-02\n",
      " -1.02901459e-04 -2.73223002e-02  4.11754904e-02  1.90228800e-01\n",
      "  1.10180026e-01 -2.89274008e-02  1.55379508e-01 -1.11062306e-01\n",
      "  1.41184109e-02 -6.31085813e-02  1.65381702e-01 -2.35069397e-01\n",
      "  1.33325100e-01 -7.13887999e-02 -2.05869703e-01  6.28518004e-02\n",
      " -1.53233892e-02  2.53515971e-02  3.78179430e-02 -6.95179993e-02\n",
      "  1.88569725e-03 -6.08593957e-02  1.53722972e-02  1.36998502e-01]\n",
      "calculated embedding: [-1.06683493e-01  2.10446432e-01 -2.65663892e-01  8.80070217e-03\n",
      " -1.20500978e-02  3.31952982e-02 -2.19532978e-02 -1.39289573e-01\n",
      "  1.49224788e-01  2.27879596e+00 -2.43725091e-01  6.56325966e-02\n",
      "  1.23016894e-01 -1.04415618e-01 -1.75937995e-01 -1.14011601e-01\n",
      " -4.22801003e-02  1.02470613e+00 -1.32739797e-01  4.28650901e-02\n",
      "  1.25979900e-01  2.06488967e-02 -1.39824897e-01 -5.13607338e-02\n",
      " -1.29056796e-01 -3.46067622e-02  1.37392074e-01 -1.50759310e-01\n",
      "  1.60280854e-01 -9.58131030e-02 -2.57375184e-02 -1.30341295e-02\n",
      "  1.51485996e-02 -1.90062337e-02  1.43359914e-01  4.87050004e-02\n",
      " -3.03401165e-02  8.35301057e-02 -1.14900410e-01  9.38732997e-02\n",
      " -1.21561009e-02  1.05218507e-01  3.62546705e-02 -8.42121094e-02\n",
      "  1.95650011e-02  2.43968695e-01 -1.37654096e-01 -8.51076990e-02\n",
      "  2.52497010e-02  1.60060264e-03 -2.07404569e-01  4.42915075e-02\n",
      "  6.78590825e-03  7.90098333e-04  1.44485101e-01 -9.50440913e-02\n",
      " -3.22653800e-02 -1.47237986e-01 -3.32215056e-02 -6.12580664e-02\n",
      " -8.91805962e-02 -1.59096003e-01 -8.83692056e-02  1.92675412e-01\n",
      "  2.92448521e-01 -1.68824494e-01  3.01069766e-03  1.90961272e-01\n",
      "  7.71234930e-02  1.50012001e-01  1.64587498e-01  7.61523023e-02\n",
      "  2.35864401e-01 -1.86547022e-02  2.65480816e-01  1.53414756e-01\n",
      "  2.36168310e-01  4.86256694e-03 -1.75131321e-01  2.32326984e-01\n",
      "  4.52372953e-02  9.59308967e-02 -2.23675206e-01 -7.17497021e-02\n",
      " -8.98094028e-02 -2.73009986e-01  3.48254800e-01 -2.07957819e-01\n",
      "  2.88362682e-01 -1.05244818e-03 -1.01275600e-01 -2.33474020e-02\n",
      " -2.11982518e-01 -8.47787037e-02  6.64174035e-02  5.50505929e-02\n",
      " -2.91608982e-02 -8.72292966e-02  2.38625072e-02 -9.52233449e-02\n",
      " -9.54889879e-03 -3.07543017e-02 -7.90406018e-02  1.76866748e-03\n",
      "  1.71650901e-01 -8.13871026e-01  1.11263692e-01  3.36628929e-02\n",
      " -5.04250415e-02  2.43317988e-02 -1.66543033e-02 -1.95671201e-01\n",
      "  1.25956506e-01  1.41591029e-02 -2.84341983e-02 -4.32549343e-02\n",
      " -7.44798481e-02  1.10469982e-02 -5.33651784e-02  3.02935205e-02\n",
      "  1.45862192e-01 -1.30114809e-01 -1.04863107e-01  1.32392794e-01\n",
      "  5.19870035e-02  2.83473022e-02 -1.50336968e-02 -1.05408989e-01\n",
      " -4.98650083e-03 -5.03140986e-02  3.24819610e-02 -7.40811080e-02\n",
      " -8.79997015e-02 -1.75135937e-02  2.10032612e-01 -8.04864764e-02\n",
      " -7.98401013e-02  6.02282993e-02  1.06780976e-02  8.51493999e-02\n",
      " -1.86670208e+00  5.39030954e-02  2.32335895e-01 -4.11401677e-04\n",
      " -7.16198981e-02 -1.20625794e-01 -1.79314345e-01  2.14746475e-01\n",
      " -1.17365997e-02 -5.68029992e-02  9.24839973e-02  8.89616534e-02\n",
      " -9.16598365e-04 -5.68305030e-02 -2.02272296e-01 -2.19587713e-01\n",
      "  6.37241974e-02  4.14926037e-02 -8.22055787e-02 -9.00698476e-04\n",
      " -7.81626031e-02  8.34492892e-02 -6.57223910e-02 -4.54669446e-03\n",
      " -1.02060400e-01 -1.09055899e-01  1.87827334e-01  3.48575041e-02\n",
      "  1.35958597e-01 -1.03756294e-01 -2.84370966e-02 -1.14094988e-02\n",
      "  9.00193006e-02 -1.91786408e-01 -4.42198962e-02  1.26580700e-01\n",
      " -1.10782400e-01 -6.11161720e-03  1.75081462e-01  1.11279134e-02\n",
      "  2.79820003e-02 -2.73111075e-01 -2.67847273e-02  4.06451561e-02\n",
      "  6.60886317e-02 -2.77520325e-02 -2.54928023e-01 -1.12172201e-01\n",
      "  5.49275577e-02  8.08136016e-02  4.52518985e-02  3.95529866e-02\n",
      " -1.42157406e-01  1.53291989e-02  1.12930998e-01  1.07781745e-01\n",
      "  8.39131996e-02 -1.51270896e-01  4.47937995e-02  2.48520494e-01\n",
      "  4.19732034e-02 -1.56187996e-01 -1.69345692e-01 -6.60894159e-03\n",
      " -6.06368408e-02  8.55313987e-02  5.04989624e-02  2.92539969e-03\n",
      "  1.18835196e-01  1.06984399e-01 -2.90107671e-02 -1.11792207e-01\n",
      " -6.15737922e-02 -1.51843011e-01  7.94802085e-02 -6.77061081e-02\n",
      " -6.12633536e-03  1.65936048e-03 -3.10547084e-01 -3.22404094e-02\n",
      "  9.56350118e-02  7.05064982e-02 -2.38332078e-01  1.42351035e-02\n",
      " -7.92506933e-02 -3.34394351e-02  4.28074040e-02  9.90410000e-02\n",
      " -2.14289986e-02  8.29470009e-02 -1.96227022e-02  6.93419054e-02\n",
      "  1.18145600e-01  4.00626883e-02 -6.23184927e-02 -7.70318955e-02\n",
      " -1.85975861e-02 -1.65490024e-02 -1.46906093e-01  1.77003413e-01\n",
      "  9.54225380e-03 -1.01434693e-01 -7.04470053e-02  9.21447948e-02\n",
      "  1.56643718e-01 -1.08028889e-01 -1.36416197e-01 -1.08347617e-01\n",
      " -6.72907978e-02  2.07685977e-01  4.00536023e-02 -8.28645006e-02\n",
      "  6.98605925e-03  4.12034020e-02  6.21389737e-03  2.32872039e-01\n",
      " -1.27783656e-01 -1.66528866e-01  9.76337120e-02  2.27129310e-01\n",
      "  6.09735921e-02  2.39166338e-02 -2.27276906e-02  1.71080619e-01\n",
      "  1.88682884e-01  1.34229288e-01 -1.38658494e-01  1.18785545e-01\n",
      "  4.17050511e-01  6.18857853e-02  1.10821888e-01 -2.76280642e-02\n",
      " -1.43063620e-01 -2.27357820e-01 -1.73845693e-01  1.84931997e-02\n",
      " -1.02901460e-04 -2.73222979e-02  4.11754958e-02  1.90228790e-01\n",
      "  1.10180020e-01 -2.89274007e-02  1.55379504e-01 -1.11062303e-01\n",
      "  1.41184125e-02 -6.31085783e-02  1.65381700e-01 -2.35069424e-01\n",
      "  1.33325100e-01 -7.13887960e-02 -2.05869704e-01  6.28518015e-02\n",
      " -1.53233875e-02  2.53515951e-02  3.78179438e-02 -6.95180073e-02\n",
      "  1.88569725e-03 -6.08593933e-02  1.53722987e-02  1.36998489e-01]\n",
      "Success!\n",
      "text: ['re', 'com', 'show', 'wait', 'watching', 'trying', 'messages', 'txt', 'apply', 'how']\n",
      "Success!\n",
      "text: ['care', 'tomorrow', 'because', 'service', 'sweet', '10', 'talk', 'being', 'dat', 'means']\n",
      "Success!\n",
      "text: ['orange', 'without', 'heart', 'there', 'join', 'babe', 'girl', 'hope', 'wake', 'world']\n",
      "Success!\n",
      "text: ['miss', 'said', 'on', 'missed', 'way', 'wen', 'it', 'mail', 'hear', 'number']\n",
      "Success!\n",
      "text: ['into', 'if', 'line', 'quite', 'show', 'before', 'much', 'though', 'job', 'mail']\n",
      "Success!\n",
      "text: ['he', 'speak', 'year', 'attempt', 'fuck', 'abt', 'oh', 'boy', 'receive', 'please']\n",
      "Success!\n",
      "text: ['1st', 'really', 'dunno', 'yeah', 'enough', 'wife', 'bored', 'evening', 'your', 'care']\n",
      "Success!\n",
      "text: ['text', 'give', 'told', 'nice', 'sorry', 'meet', 'xxx', 'left', 'attempt', 'amp']\n",
      "Success!\n",
      "text: ['enjoy', 'home', 'pls', 'mins', 'today', 'anything', 'be', 'this', 'book', 'its']\n",
      "Success!\n",
      "text: ['not', 'cost', 'gt', 'service', 'is', 'wish', 'apply', 'wanna', 'late', 'coz']\n",
      "Success!\n",
      "text: ['txt', 'wen', 'easy', 'may', '150p', 'join', 'man', 'thats', 'sent', 'my']\n",
      "Success!\n",
      "text: ['than', 'hurt', 'abt', 'remember', 'awarded', 'speak', 'well', 'haf', 'bored', 'same']\n",
      "Success!\n",
      "text: ['left', 'lol', 'been', 'contact', 'sweet', 'kiss', 'worry', 'this', 'left', 'line']\n",
      "Success!\n",
      "text: ['face', 'great', 'an', 'are', 'able', 'get', 'please', 'having', 'look', 'claim']\n",
      "Success!\n"
     ]
    }
   ],
   "source": [
    "# TEST FOR THE get_document_embedding_from_spacy function\n",
    "for test_num in range(15):\n",
    "  sample_token_indices = np.random.randint(0,500, size=10)\n",
    "  input_text = [index_to_token(index, VOCAB) for index in sample_token_indices]\n",
    "  input_text_as_str = \" \".join(input_text)\n",
    "  print(f\"text: {input_text}\")\n",
    "  if test_num == 0:\n",
    "    print(f\"your embedding: {get_document_embedding_from_spacy(input_text_as_str)}\")\n",
    "    print(f\"calculated embedding: {spacy_pipeline(input_text_as_str).vector}\")\n",
    "  assert np.isclose(get_document_embedding_from_spacy(input_text_as_str), spacy_pipeline(input_text_as_str).vector).all()\n",
    "  print(\"Success!\")"
   ]
  },
  {
   "cell_type": "code",
   "execution_count": null,
   "metadata": {
    "colab": {
     "base_uri": "https://localhost:8080/"
    },
    "id": "wsTeOHpY2g0w",
    "outputId": "42a09d5d-ef3a-4afe-f2ef-50d23c092dc8"
   },
   "outputs": [
    {
     "name": "stdout",
     "output_type": "stream",
     "text": [
      " Logistic Regression on Word2Vec embedding; accuracy on validation data: 0.9677033492822966\n"
     ]
    }
   ],
   "source": [
    "# This might take around 1 minute to run\n",
    "X_train_spacy = np.vstack([get_document_embedding_from_spacy(x) for x in X_train])\n",
    "X_valid_spacy = np.vstack([get_document_embedding_from_spacy(x) for x in X_val])\n",
    "logreg_w2v = LogisticRegression(random_state=1, max_iter=1000).fit(X_train_spacy, y_train)\n",
    "print(f\" Logistic Regression on Word2Vec embedding; accuracy on validation data: {accuracy_score(y_val , logreg_w2v.predict(X_valid_spacy))}\")"
   ]
  },
  {
   "cell_type": "markdown",
   "metadata": {
    "id": "CUgPJT303570"
   },
   "source": [
    "### Q2.f.b [2 points] Implement the function get_document_embedding_from_spacy_alt below to return the document embedding based on the token vectors.\n",
    "\n",
    "Feel free to let your imagination run, or go with simplicity. Don't use the average as above. Feel free to play around and see what works and what doesn't."
   ]
  },
  {
   "cell_type": "code",
   "execution_count": null,
   "metadata": {
    "id": "4PK2CpdcuOil"
   },
   "outputs": [],
   "source": [
    "def get_document_embedding_from_spacy_alt(text:str) -> np.ndarray:\n",
    "  \"\"\"\n",
    "  returns the embedding vector representing the entire text by whatever means you\n",
    "  would like based on the token level embeddings\n",
    "  \"\"\"\n",
    "  tokens = spacy_pipeline(text)\n",
    "  \n",
    "  document_embedding = np.zeros(len(tokens[0].vector))\n",
    "  for token in tokens:\n",
    "    document_embedding += token.vector # just sum, not averaging\n",
    "\n",
    "  return document_embedding"
   ]
  },
  {
   "cell_type": "code",
   "execution_count": null,
   "metadata": {
    "colab": {
     "base_uri": "https://localhost:8080/"
    },
    "id": "UrgKFCLjp2ko",
    "outputId": "36b29778-0379-471c-8373-0d4ff365852b"
   },
   "outputs": [
    {
     "name": "stdout",
     "output_type": "stream",
     "text": [
      " Logistic Regression on Word2Vec alternative embedding; accuracy on validation data: 0.9700956937799043\n"
     ]
    }
   ],
   "source": [
    "# This might take around a 1 minute\n",
    "X_train_spacy_alt = np.vstack([get_document_embedding_from_spacy_alt(x) for x in X_train])\n",
    "X_valid_spacy_alt = np.vstack([get_document_embedding_from_spacy_alt(x) for x in X_val])\n",
    "logreg_w2v_alt = LogisticRegression(random_state=1, max_iter=1000).fit(X_train_spacy_alt, y_train)\n",
    "print(f\" Logistic Regression on Word2Vec alternative embedding; accuracy on validation data: {accuracy_score(y_val , logreg_w2v_alt.predict(X_valid_spacy_alt))}\")"
   ]
  },
  {
   "cell_type": "markdown",
   "metadata": {
    "id": "IzxBMiHBvaum"
   },
   "source": [
    "## Combining Embeddings [Free]"
   ]
  },
  {
   "cell_type": "code",
   "execution_count": null,
   "metadata": {
    "colab": {
     "base_uri": "https://localhost:8080/"
    },
    "id": "eMx3NlAquqMG",
    "outputId": "af5790cd-722b-49f0-bbe4-c6134178cce0"
   },
   "outputs": [
    {
     "name": "stdout",
     "output_type": "stream",
     "text": [
      " Logistic Regression on combined W2V and BoW embeddings; accuracy on validation data: 0.9832535885167464\n"
     ]
    }
   ],
   "source": [
    "X_train_combined = np.hstack((X_train_spacy, vectorized_data_auto.toarray()))\n",
    "X_val_combined = np.hstack((X_valid_spacy, vectorizer_auto.transform(X_val).toarray()))\n",
    "logreg_combined = LogisticRegression(random_state=1, max_iter=1000).fit(X_train_combined, y_train)\n",
    "print(f\" Logistic Regression on combined W2V and BoW embeddings; accuracy on validation data: {logreg_combined.score(X_val_combined, y_val)}\")"
   ]
  },
  {
   "cell_type": "markdown",
   "metadata": {
    "id": "kN4fRAjfxioQ"
   },
   "source": [
    "##[2 points] Q2.g Transformer Model\n",
    "\n",
    "Below we will be using embeddings produced by a \"Transformer\" model (we will learn more about these in week 12/13), for the embedding of each token, it aims to incorporate not only the meaning of the token, but also the specific context in which it occurs here, with the context being a fixed window of size 512."
   ]
  },
  {
   "cell_type": "code",
   "execution_count": null,
   "metadata": {
    "colab": {
     "base_uri": "https://localhost:8080/",
     "height": 177,
     "referenced_widgets": [
      "a799c584b5e2488f8444cb73082a922f",
      "c110c8edce5841a68055eaa59be44469",
      "1a6647406b2e49f6a4016f351018d97c",
      "27707260fd8c4ff181087567ea505aa0",
      "670954dc07b748569ba9bbd5fe602dc6",
      "75f1a2b5517540c9af15357f15a2565a",
      "6d735634a2f747d19058258aab39a308",
      "a3d8a8cc78984d6db0ebc907817ee947",
      "b38ec07988fb4e73a94d07b11843ae67",
      "7ca2de238fc04114bb9d848aa6adbea8",
      "2ece499a925249369c73b87953c9bc6b",
      "fffffbe5ed2842729d4281d720cd1bff",
      "f82d22d294764758812e35731bb04352",
      "7a3fceb791374640ad83d67f4ea1247b",
      "9693ffa3f67046e4aeb56d6e34dab61c",
      "a5c390ddd91a404c8d79a9e49e24c03c",
      "48f4cbcdbfcd42ad8dc5cbf367a70174",
      "e4bc86d04ec141d6b75bd280f79ca70e",
      "7a384a0e2818447482f339a33edeb151",
      "cb8093c8e0974724b96975e796604ca0",
      "52949dbe2d424dd8863b5749c5233f71",
      "bd475079875e42d9aa4bace3c7f6c1ae",
      "82688b2aab474f2e8357e611d1644e9e",
      "1a01bb8b8cc543488100ebfb4e79b6b8",
      "3a4df2e857ea48e68485f7061ca23fbb",
      "12ac7627acda47b08bde09a51f514d3e",
      "76fa0e27cb5d4a1fbacf521701057e18",
      "2d0b5932540e4c34836eb8db113df77c",
      "ab31d52526554c46a02b20c1e089ec53",
      "ce00698a3096486fa38924d3cfdf6926",
      "8ae42bbaa3744f7d86798e046b63086c",
      "9b7cd6ddd6f04206be47489f2ee8e246",
      "1631388f13ad475c902722dd5249cdb0",
      "5d5894c63db64a249a2b326facec79c5",
      "91fc16e46eb4494183b4459e7914ee0b",
      "10fffed2003a4e1a9d293f23e2daec52",
      "843e16f57992446e96ca0fd7d6efd73e",
      "9054e4054726483286d7036d746bbe53",
      "b065edddfeb14ade9f965aa31027d41e",
      "f1bb60e5a1cd4913b3ede100c3e2cf23",
      "ee3ec0487c61417d9450649a3a63aa12",
      "98ee7e48be6b4b2bb26fbff75471c415",
      "8e2c6cab36444cbca26e0032c88beac8",
      "7a3cc01cb0584b17bcbfa5d2d5eaf293",
      "16061e43458740d9a15f1ac6070cb826",
      "68eb70fb420f4417884f428c92f9ef82",
      "be4ccc00020946eab5e3a102f8640f4c",
      "42a5a6308db444978bb2f5319515a05e",
      "e43893a585c94fe893984dab93d2a383",
      "4833053dc689403b945c8af657354e21",
      "3f7ba9c040b2466289690855211d0fe9",
      "2318e7dac76d4b4fb378539530735b11",
      "30a0058c794b4266ab7b3e1030d7798a",
      "5f8814bc48454e61bf90cce2b04ec25f",
      "ec0c9ac099104a3cb8e78f9b6fa1ce60"
     ]
    },
    "id": "fWudJJ2Qxhxn",
    "outputId": "0557ac02-d16d-4770-869b-da9091963cc7"
   },
   "outputs": [
    {
     "data": {
      "application/vnd.jupyter.widget-view+json": {
       "model_id": "a799c584b5e2488f8444cb73082a922f",
       "version_major": 2,
       "version_minor": 0
      },
      "text/plain": [
       "Downloading:   0%|          | 0.00/324 [00:00<?, ?B/s]"
      ]
     },
     "metadata": {},
     "output_type": "display_data"
    },
    {
     "data": {
      "application/vnd.jupyter.widget-view+json": {
       "model_id": "fffffbe5ed2842729d4281d720cd1bff",
       "version_major": 2,
       "version_minor": 0
      },
      "text/plain": [
       "Downloading:   0%|          | 0.00/645 [00:00<?, ?B/s]"
      ]
     },
     "metadata": {},
     "output_type": "display_data"
    },
    {
     "data": {
      "application/vnd.jupyter.widget-view+json": {
       "model_id": "82688b2aab474f2e8357e611d1644e9e",
       "version_major": 2,
       "version_minor": 0
      },
      "text/plain": [
       "Downloading:   0%|          | 0.00/226k [00:00<?, ?B/s]"
      ]
     },
     "metadata": {},
     "output_type": "display_data"
    },
    {
     "data": {
      "application/vnd.jupyter.widget-view+json": {
       "model_id": "5d5894c63db64a249a2b326facec79c5",
       "version_major": 2,
       "version_minor": 0
      },
      "text/plain": [
       "Downloading:   0%|          | 0.00/112 [00:00<?, ?B/s]"
      ]
     },
     "metadata": {},
     "output_type": "display_data"
    },
    {
     "data": {
      "application/vnd.jupyter.widget-view+json": {
       "model_id": "16061e43458740d9a15f1ac6070cb826",
       "version_major": 2,
       "version_minor": 0
      },
      "text/plain": [
       "Downloading:   0%|          | 0.00/16.8M [00:00<?, ?B/s]"
      ]
     },
     "metadata": {},
     "output_type": "display_data"
    }
   ],
   "source": [
    "from transformers import AutoTokenizer, AutoModelForSequenceClassification\n",
    "\n",
    "tokenizer = AutoTokenizer.from_pretrained(\"mrm8488/bert-tiny-finetuned-sms-spam-detection\") # This model has been trained on this data\n",
    "\n",
    "model = AutoModelForSequenceClassification.from_pretrained(\"mrm8488/bert-tiny-finetuned-sms-spam-detection\", output_hidden_states = True)"
   ]
  },
  {
   "cell_type": "markdown",
   "metadata": {
    "id": "1F6WNlHq57yJ"
   },
   "source": [
    "### Q2.g.a [2 points] Finish the implementation of get_embedding_from_transformer to produce a document level embedding given some text. "
   ]
  },
  {
   "cell_type": "code",
   "execution_count": null,
   "metadata": {
    "id": "u49GVcFtxsV4"
   },
   "outputs": [],
   "source": [
    "def get_embedding_from_transformer(text:str) -> np.ndarray:\n",
    "  \"\"\"\n",
    "  Returns an embedding from a transformer model produced by averaging the token level embeddings\n",
    "  \"\"\"\n",
    "  tokenized = tokenizer([text])\n",
    "  for key, value in tokenized.items():\n",
    "    tokenized[key] = torch.LongTensor(value)\n",
    "  with torch.no_grad():\n",
    "    token_embeddings = model.forward(**tokenized)[\"hidden_states\"][0].numpy()[0]\n",
    "  # print(token_embeddings.shape)\n",
    "  document_embedding = np.mean(token_embeddings, axis=0) # TODO\n",
    "  return document_embedding"
   ]
  },
  {
   "cell_type": "code",
   "execution_count": null,
   "metadata": {
    "id": "e2zZOpJb6ZNt"
   },
   "outputs": [],
   "source": [
    "# JUST SOME TESTING THAT IT RUNS AND PRODUCES THE RIGHT SIZE\n",
    "for e in [get_embedding_from_transformer(x) for x in X_train[:3]]:\n",
    "  assert e.shape == (128,)"
   ]
  },
  {
   "cell_type": "code",
   "execution_count": null,
   "metadata": {
    "colab": {
     "base_uri": "https://localhost:8080/"
    },
    "id": "RQ_EvOXAylxs",
    "outputId": "41764dd1-44ff-4e5a-b96c-f562176f595c"
   },
   "outputs": [
    {
     "name": "stdout",
     "output_type": "stream",
     "text": [
      " Logistic Regression on Transformer embedding accuracy on validation: 0.9844497607655502\n"
     ]
    }
   ],
   "source": [
    "# This might take around a 1 minute\n",
    "X_train_transformer = np.vstack([get_embedding_from_transformer(x) for x in X_train])\n",
    "X_valid_transformer = np.vstack([get_embedding_from_transformer(x) for x in X_val])\n",
    "logreg_transformer = LogisticRegression(random_state=1, max_iter=1000).fit(X_train_transformer, y_train)\n",
    "print(f\" Logistic Regression on Transformer embedding accuracy on validation: {logreg_transformer.score(X_valid_transformer, y_val)}\")"
   ]
  },
  {
   "cell_type": "markdown",
   "metadata": {
    "id": "RLt2Q4iWfeP9"
   },
   "source": [
    "## Q2.h [3 points] Which spam detection method worked best? Why do you think that is? What are some considerations you would need to make to use this model in practice? "
   ]
  },
  {
   "cell_type": "markdown",
   "metadata": {
    "id": "P5LEwqxPpz_P"
   },
   "source": [
    "The Transformer model worked best. The reason is that Transformer model incorporates not only the meaning of the token, but also the specific context in which it occurs here, and so it can extract more information than other two methods did. In practice, it would typically take into the model complexity in terms of the size, the time to train, and also one need to fine-tune the model for the downstream task properly when using the Transformer model."
   ]
  }
 ],
 "metadata": {
  "colab": {
   "collapsed_sections": [],
   "name": "Copy of STA414 Homework 3, Part 2: NLP.ipynb",
   "provenance": []
  },
  "kernelspec": {
   "display_name": "Python 3 (ipykernel)",
   "language": "python",
   "name": "python3"
  },
  "language_info": {
   "codemirror_mode": {
    "name": "ipython",
    "version": 3
   },
   "file_extension": ".py",
   "mimetype": "text/x-python",
   "name": "python",
   "nbconvert_exporter": "python",
   "pygments_lexer": "ipython3",
   "version": "3.9.7"
  },
  "widgets": {
   "application/vnd.jupyter.widget-state+json": {
    "10fffed2003a4e1a9d293f23e2daec52": {
     "model_module": "@jupyter-widgets/controls",
     "model_module_version": "1.5.0",
     "model_name": "FloatProgressModel",
     "state": {
      "_dom_classes": [],
      "_model_module": "@jupyter-widgets/controls",
      "_model_module_version": "1.5.0",
      "_model_name": "FloatProgressModel",
      "_view_count": null,
      "_view_module": "@jupyter-widgets/controls",
      "_view_module_version": "1.5.0",
      "_view_name": "ProgressView",
      "bar_style": "success",
      "description": "",
      "description_tooltip": null,
      "layout": "IPY_MODEL_ee3ec0487c61417d9450649a3a63aa12",
      "max": 112,
      "min": 0,
      "orientation": "horizontal",
      "style": "IPY_MODEL_98ee7e48be6b4b2bb26fbff75471c415",
      "value": 112
     }
    },
    "12ac7627acda47b08bde09a51f514d3e": {
     "model_module": "@jupyter-widgets/controls",
     "model_module_version": "1.5.0",
     "model_name": "HTMLModel",
     "state": {
      "_dom_classes": [],
      "_model_module": "@jupyter-widgets/controls",
      "_model_module_version": "1.5.0",
      "_model_name": "HTMLModel",
      "_view_count": null,
      "_view_module": "@jupyter-widgets/controls",
      "_view_module_version": "1.5.0",
      "_view_name": "HTMLView",
      "description": "",
      "description_tooltip": null,
      "layout": "IPY_MODEL_9b7cd6ddd6f04206be47489f2ee8e246",
      "placeholder": "​",
      "style": "IPY_MODEL_1631388f13ad475c902722dd5249cdb0",
      "value": " 226k/226k [00:00&lt;00:00, 2.01MB/s]"
     }
    },
    "16061e43458740d9a15f1ac6070cb826": {
     "model_module": "@jupyter-widgets/controls",
     "model_module_version": "1.5.0",
     "model_name": "HBoxModel",
     "state": {
      "_dom_classes": [],
      "_model_module": "@jupyter-widgets/controls",
      "_model_module_version": "1.5.0",
      "_model_name": "HBoxModel",
      "_view_count": null,
      "_view_module": "@jupyter-widgets/controls",
      "_view_module_version": "1.5.0",
      "_view_name": "HBoxView",
      "box_style": "",
      "children": [
       "IPY_MODEL_68eb70fb420f4417884f428c92f9ef82",
       "IPY_MODEL_be4ccc00020946eab5e3a102f8640f4c",
       "IPY_MODEL_42a5a6308db444978bb2f5319515a05e"
      ],
      "layout": "IPY_MODEL_e43893a585c94fe893984dab93d2a383"
     }
    },
    "1631388f13ad475c902722dd5249cdb0": {
     "model_module": "@jupyter-widgets/controls",
     "model_module_version": "1.5.0",
     "model_name": "DescriptionStyleModel",
     "state": {
      "_model_module": "@jupyter-widgets/controls",
      "_model_module_version": "1.5.0",
      "_model_name": "DescriptionStyleModel",
      "_view_count": null,
      "_view_module": "@jupyter-widgets/base",
      "_view_module_version": "1.2.0",
      "_view_name": "StyleView",
      "description_width": ""
     }
    },
    "1a01bb8b8cc543488100ebfb4e79b6b8": {
     "model_module": "@jupyter-widgets/controls",
     "model_module_version": "1.5.0",
     "model_name": "HTMLModel",
     "state": {
      "_dom_classes": [],
      "_model_module": "@jupyter-widgets/controls",
      "_model_module_version": "1.5.0",
      "_model_name": "HTMLModel",
      "_view_count": null,
      "_view_module": "@jupyter-widgets/controls",
      "_view_module_version": "1.5.0",
      "_view_name": "HTMLView",
      "description": "",
      "description_tooltip": null,
      "layout": "IPY_MODEL_2d0b5932540e4c34836eb8db113df77c",
      "placeholder": "​",
      "style": "IPY_MODEL_ab31d52526554c46a02b20c1e089ec53",
      "value": "Downloading: 100%"
     }
    },
    "1a6647406b2e49f6a4016f351018d97c": {
     "model_module": "@jupyter-widgets/controls",
     "model_module_version": "1.5.0",
     "model_name": "FloatProgressModel",
     "state": {
      "_dom_classes": [],
      "_model_module": "@jupyter-widgets/controls",
      "_model_module_version": "1.5.0",
      "_model_name": "FloatProgressModel",
      "_view_count": null,
      "_view_module": "@jupyter-widgets/controls",
      "_view_module_version": "1.5.0",
      "_view_name": "ProgressView",
      "bar_style": "success",
      "description": "",
      "description_tooltip": null,
      "layout": "IPY_MODEL_a3d8a8cc78984d6db0ebc907817ee947",
      "max": 324,
      "min": 0,
      "orientation": "horizontal",
      "style": "IPY_MODEL_b38ec07988fb4e73a94d07b11843ae67",
      "value": 324
     }
    },
    "2318e7dac76d4b4fb378539530735b11": {
     "model_module": "@jupyter-widgets/base",
     "model_module_version": "1.2.0",
     "model_name": "LayoutModel",
     "state": {
      "_model_module": "@jupyter-widgets/base",
      "_model_module_version": "1.2.0",
      "_model_name": "LayoutModel",
      "_view_count": null,
      "_view_module": "@jupyter-widgets/base",
      "_view_module_version": "1.2.0",
      "_view_name": "LayoutView",
      "align_content": null,
      "align_items": null,
      "align_self": null,
      "border": null,
      "bottom": null,
      "display": null,
      "flex": null,
      "flex_flow": null,
      "grid_area": null,
      "grid_auto_columns": null,
      "grid_auto_flow": null,
      "grid_auto_rows": null,
      "grid_column": null,
      "grid_gap": null,
      "grid_row": null,
      "grid_template_areas": null,
      "grid_template_columns": null,
      "grid_template_rows": null,
      "height": null,
      "justify_content": null,
      "justify_items": null,
      "left": null,
      "margin": null,
      "max_height": null,
      "max_width": null,
      "min_height": null,
      "min_width": null,
      "object_fit": null,
      "object_position": null,
      "order": null,
      "overflow": null,
      "overflow_x": null,
      "overflow_y": null,
      "padding": null,
      "right": null,
      "top": null,
      "visibility": null,
      "width": null
     }
    },
    "27707260fd8c4ff181087567ea505aa0": {
     "model_module": "@jupyter-widgets/controls",
     "model_module_version": "1.5.0",
     "model_name": "HTMLModel",
     "state": {
      "_dom_classes": [],
      "_model_module": "@jupyter-widgets/controls",
      "_model_module_version": "1.5.0",
      "_model_name": "HTMLModel",
      "_view_count": null,
      "_view_module": "@jupyter-widgets/controls",
      "_view_module_version": "1.5.0",
      "_view_name": "HTMLView",
      "description": "",
      "description_tooltip": null,
      "layout": "IPY_MODEL_7ca2de238fc04114bb9d848aa6adbea8",
      "placeholder": "​",
      "style": "IPY_MODEL_2ece499a925249369c73b87953c9bc6b",
      "value": " 324/324 [00:00&lt;00:00, 7.34kB/s]"
     }
    },
    "28de71b3616d4c9cb274660415fa1606": {
     "model_module": "@jupyter-widgets/controls",
     "model_module_version": "1.5.0",
     "model_name": "HTMLModel",
     "state": {
      "_dom_classes": [],
      "_model_module": "@jupyter-widgets/controls",
      "_model_module_version": "1.5.0",
      "_model_name": "HTMLModel",
      "_view_count": null,
      "_view_module": "@jupyter-widgets/controls",
      "_view_module_version": "1.5.0",
      "_view_name": "HTMLView",
      "description": "",
      "description_tooltip": null,
      "layout": "IPY_MODEL_469f3b915acf417384593c5fe18d159f",
      "placeholder": "​",
      "style": "IPY_MODEL_bdd0b4b2baeb4d9e89f05dcd8c30678a",
      "value": "100%"
     }
    },
    "2b92c20d6438403599a8d96a5f241994": {
     "model_module": "@jupyter-widgets/controls",
     "model_module_version": "1.5.0",
     "model_name": "ProgressStyleModel",
     "state": {
      "_model_module": "@jupyter-widgets/controls",
      "_model_module_version": "1.5.0",
      "_model_name": "ProgressStyleModel",
      "_view_count": null,
      "_view_module": "@jupyter-widgets/base",
      "_view_module_version": "1.2.0",
      "_view_name": "StyleView",
      "bar_color": null,
      "description_width": ""
     }
    },
    "2d0b5932540e4c34836eb8db113df77c": {
     "model_module": "@jupyter-widgets/base",
     "model_module_version": "1.2.0",
     "model_name": "LayoutModel",
     "state": {
      "_model_module": "@jupyter-widgets/base",
      "_model_module_version": "1.2.0",
      "_model_name": "LayoutModel",
      "_view_count": null,
      "_view_module": "@jupyter-widgets/base",
      "_view_module_version": "1.2.0",
      "_view_name": "LayoutView",
      "align_content": null,
      "align_items": null,
      "align_self": null,
      "border": null,
      "bottom": null,
      "display": null,
      "flex": null,
      "flex_flow": null,
      "grid_area": null,
      "grid_auto_columns": null,
      "grid_auto_flow": null,
      "grid_auto_rows": null,
      "grid_column": null,
      "grid_gap": null,
      "grid_row": null,
      "grid_template_areas": null,
      "grid_template_columns": null,
      "grid_template_rows": null,
      "height": null,
      "justify_content": null,
      "justify_items": null,
      "left": null,
      "margin": null,
      "max_height": null,
      "max_width": null,
      "min_height": null,
      "min_width": null,
      "object_fit": null,
      "object_position": null,
      "order": null,
      "overflow": null,
      "overflow_x": null,
      "overflow_y": null,
      "padding": null,
      "right": null,
      "top": null,
      "visibility": null,
      "width": null
     }
    },
    "2ece499a925249369c73b87953c9bc6b": {
     "model_module": "@jupyter-widgets/controls",
     "model_module_version": "1.5.0",
     "model_name": "DescriptionStyleModel",
     "state": {
      "_model_module": "@jupyter-widgets/controls",
      "_model_module_version": "1.5.0",
      "_model_name": "DescriptionStyleModel",
      "_view_count": null,
      "_view_module": "@jupyter-widgets/base",
      "_view_module_version": "1.2.0",
      "_view_name": "StyleView",
      "description_width": ""
     }
    },
    "30a0058c794b4266ab7b3e1030d7798a": {
     "model_module": "@jupyter-widgets/controls",
     "model_module_version": "1.5.0",
     "model_name": "ProgressStyleModel",
     "state": {
      "_model_module": "@jupyter-widgets/controls",
      "_model_module_version": "1.5.0",
      "_model_name": "ProgressStyleModel",
      "_view_count": null,
      "_view_module": "@jupyter-widgets/base",
      "_view_module_version": "1.2.0",
      "_view_name": "StyleView",
      "bar_color": null,
      "description_width": ""
     }
    },
    "3a4df2e857ea48e68485f7061ca23fbb": {
     "model_module": "@jupyter-widgets/controls",
     "model_module_version": "1.5.0",
     "model_name": "FloatProgressModel",
     "state": {
      "_dom_classes": [],
      "_model_module": "@jupyter-widgets/controls",
      "_model_module_version": "1.5.0",
      "_model_name": "FloatProgressModel",
      "_view_count": null,
      "_view_module": "@jupyter-widgets/controls",
      "_view_module_version": "1.5.0",
      "_view_name": "ProgressView",
      "bar_style": "success",
      "description": "",
      "description_tooltip": null,
      "layout": "IPY_MODEL_ce00698a3096486fa38924d3cfdf6926",
      "max": 231508,
      "min": 0,
      "orientation": "horizontal",
      "style": "IPY_MODEL_8ae42bbaa3744f7d86798e046b63086c",
      "value": 231508
     }
    },
    "3f7ba9c040b2466289690855211d0fe9": {
     "model_module": "@jupyter-widgets/controls",
     "model_module_version": "1.5.0",
     "model_name": "DescriptionStyleModel",
     "state": {
      "_model_module": "@jupyter-widgets/controls",
      "_model_module_version": "1.5.0",
      "_model_name": "DescriptionStyleModel",
      "_view_count": null,
      "_view_module": "@jupyter-widgets/base",
      "_view_module_version": "1.2.0",
      "_view_name": "StyleView",
      "description_width": ""
     }
    },
    "42a5a6308db444978bb2f5319515a05e": {
     "model_module": "@jupyter-widgets/controls",
     "model_module_version": "1.5.0",
     "model_name": "HTMLModel",
     "state": {
      "_dom_classes": [],
      "_model_module": "@jupyter-widgets/controls",
      "_model_module_version": "1.5.0",
      "_model_name": "HTMLModel",
      "_view_count": null,
      "_view_module": "@jupyter-widgets/controls",
      "_view_module_version": "1.5.0",
      "_view_name": "HTMLView",
      "description": "",
      "description_tooltip": null,
      "layout": "IPY_MODEL_5f8814bc48454e61bf90cce2b04ec25f",
      "placeholder": "​",
      "style": "IPY_MODEL_ec0c9ac099104a3cb8e78f9b6fa1ce60",
      "value": " 16.8M/16.8M [00:00&lt;00:00, 36.3MB/s]"
     }
    },
    "4575f7f2c5374d43bb85349abf142431": {
     "model_module": "@jupyter-widgets/controls",
     "model_module_version": "1.5.0",
     "model_name": "HBoxModel",
     "state": {
      "_dom_classes": [],
      "_model_module": "@jupyter-widgets/controls",
      "_model_module_version": "1.5.0",
      "_model_name": "HBoxModel",
      "_view_count": null,
      "_view_module": "@jupyter-widgets/controls",
      "_view_module_version": "1.5.0",
      "_view_name": "HBoxView",
      "box_style": "",
      "children": [
       "IPY_MODEL_28de71b3616d4c9cb274660415fa1606",
       "IPY_MODEL_72433fd500b24e7ea6a2c3d0bc282043",
       "IPY_MODEL_d5ac7c28aced4f3f90d9c1a84c45804c"
      ],
      "layout": "IPY_MODEL_b6d2139aa3154d298df38b0a06b8c6a8"
     }
    },
    "469f3b915acf417384593c5fe18d159f": {
     "model_module": "@jupyter-widgets/base",
     "model_module_version": "1.2.0",
     "model_name": "LayoutModel",
     "state": {
      "_model_module": "@jupyter-widgets/base",
      "_model_module_version": "1.2.0",
      "_model_name": "LayoutModel",
      "_view_count": null,
      "_view_module": "@jupyter-widgets/base",
      "_view_module_version": "1.2.0",
      "_view_name": "LayoutView",
      "align_content": null,
      "align_items": null,
      "align_self": null,
      "border": null,
      "bottom": null,
      "display": null,
      "flex": null,
      "flex_flow": null,
      "grid_area": null,
      "grid_auto_columns": null,
      "grid_auto_flow": null,
      "grid_auto_rows": null,
      "grid_column": null,
      "grid_gap": null,
      "grid_row": null,
      "grid_template_areas": null,
      "grid_template_columns": null,
      "grid_template_rows": null,
      "height": null,
      "justify_content": null,
      "justify_items": null,
      "left": null,
      "margin": null,
      "max_height": null,
      "max_width": null,
      "min_height": null,
      "min_width": null,
      "object_fit": null,
      "object_position": null,
      "order": null,
      "overflow": null,
      "overflow_x": null,
      "overflow_y": null,
      "padding": null,
      "right": null,
      "top": null,
      "visibility": null,
      "width": null
     }
    },
    "4833053dc689403b945c8af657354e21": {
     "model_module": "@jupyter-widgets/base",
     "model_module_version": "1.2.0",
     "model_name": "LayoutModel",
     "state": {
      "_model_module": "@jupyter-widgets/base",
      "_model_module_version": "1.2.0",
      "_model_name": "LayoutModel",
      "_view_count": null,
      "_view_module": "@jupyter-widgets/base",
      "_view_module_version": "1.2.0",
      "_view_name": "LayoutView",
      "align_content": null,
      "align_items": null,
      "align_self": null,
      "border": null,
      "bottom": null,
      "display": null,
      "flex": null,
      "flex_flow": null,
      "grid_area": null,
      "grid_auto_columns": null,
      "grid_auto_flow": null,
      "grid_auto_rows": null,
      "grid_column": null,
      "grid_gap": null,
      "grid_row": null,
      "grid_template_areas": null,
      "grid_template_columns": null,
      "grid_template_rows": null,
      "height": null,
      "justify_content": null,
      "justify_items": null,
      "left": null,
      "margin": null,
      "max_height": null,
      "max_width": null,
      "min_height": null,
      "min_width": null,
      "object_fit": null,
      "object_position": null,
      "order": null,
      "overflow": null,
      "overflow_x": null,
      "overflow_y": null,
      "padding": null,
      "right": null,
      "top": null,
      "visibility": null,
      "width": null
     }
    },
    "48f4cbcdbfcd42ad8dc5cbf367a70174": {
     "model_module": "@jupyter-widgets/base",
     "model_module_version": "1.2.0",
     "model_name": "LayoutModel",
     "state": {
      "_model_module": "@jupyter-widgets/base",
      "_model_module_version": "1.2.0",
      "_model_name": "LayoutModel",
      "_view_count": null,
      "_view_module": "@jupyter-widgets/base",
      "_view_module_version": "1.2.0",
      "_view_name": "LayoutView",
      "align_content": null,
      "align_items": null,
      "align_self": null,
      "border": null,
      "bottom": null,
      "display": null,
      "flex": null,
      "flex_flow": null,
      "grid_area": null,
      "grid_auto_columns": null,
      "grid_auto_flow": null,
      "grid_auto_rows": null,
      "grid_column": null,
      "grid_gap": null,
      "grid_row": null,
      "grid_template_areas": null,
      "grid_template_columns": null,
      "grid_template_rows": null,
      "height": null,
      "justify_content": null,
      "justify_items": null,
      "left": null,
      "margin": null,
      "max_height": null,
      "max_width": null,
      "min_height": null,
      "min_width": null,
      "object_fit": null,
      "object_position": null,
      "order": null,
      "overflow": null,
      "overflow_x": null,
      "overflow_y": null,
      "padding": null,
      "right": null,
      "top": null,
      "visibility": null,
      "width": null
     }
    },
    "52949dbe2d424dd8863b5749c5233f71": {
     "model_module": "@jupyter-widgets/base",
     "model_module_version": "1.2.0",
     "model_name": "LayoutModel",
     "state": {
      "_model_module": "@jupyter-widgets/base",
      "_model_module_version": "1.2.0",
      "_model_name": "LayoutModel",
      "_view_count": null,
      "_view_module": "@jupyter-widgets/base",
      "_view_module_version": "1.2.0",
      "_view_name": "LayoutView",
      "align_content": null,
      "align_items": null,
      "align_self": null,
      "border": null,
      "bottom": null,
      "display": null,
      "flex": null,
      "flex_flow": null,
      "grid_area": null,
      "grid_auto_columns": null,
      "grid_auto_flow": null,
      "grid_auto_rows": null,
      "grid_column": null,
      "grid_gap": null,
      "grid_row": null,
      "grid_template_areas": null,
      "grid_template_columns": null,
      "grid_template_rows": null,
      "height": null,
      "justify_content": null,
      "justify_items": null,
      "left": null,
      "margin": null,
      "max_height": null,
      "max_width": null,
      "min_height": null,
      "min_width": null,
      "object_fit": null,
      "object_position": null,
      "order": null,
      "overflow": null,
      "overflow_x": null,
      "overflow_y": null,
      "padding": null,
      "right": null,
      "top": null,
      "visibility": null,
      "width": null
     }
    },
    "5d5894c63db64a249a2b326facec79c5": {
     "model_module": "@jupyter-widgets/controls",
     "model_module_version": "1.5.0",
     "model_name": "HBoxModel",
     "state": {
      "_dom_classes": [],
      "_model_module": "@jupyter-widgets/controls",
      "_model_module_version": "1.5.0",
      "_model_name": "HBoxModel",
      "_view_count": null,
      "_view_module": "@jupyter-widgets/controls",
      "_view_module_version": "1.5.0",
      "_view_name": "HBoxView",
      "box_style": "",
      "children": [
       "IPY_MODEL_91fc16e46eb4494183b4459e7914ee0b",
       "IPY_MODEL_10fffed2003a4e1a9d293f23e2daec52",
       "IPY_MODEL_843e16f57992446e96ca0fd7d6efd73e"
      ],
      "layout": "IPY_MODEL_9054e4054726483286d7036d746bbe53"
     }
    },
    "5f8814bc48454e61bf90cce2b04ec25f": {
     "model_module": "@jupyter-widgets/base",
     "model_module_version": "1.2.0",
     "model_name": "LayoutModel",
     "state": {
      "_model_module": "@jupyter-widgets/base",
      "_model_module_version": "1.2.0",
      "_model_name": "LayoutModel",
      "_view_count": null,
      "_view_module": "@jupyter-widgets/base",
      "_view_module_version": "1.2.0",
      "_view_name": "LayoutView",
      "align_content": null,
      "align_items": null,
      "align_self": null,
      "border": null,
      "bottom": null,
      "display": null,
      "flex": null,
      "flex_flow": null,
      "grid_area": null,
      "grid_auto_columns": null,
      "grid_auto_flow": null,
      "grid_auto_rows": null,
      "grid_column": null,
      "grid_gap": null,
      "grid_row": null,
      "grid_template_areas": null,
      "grid_template_columns": null,
      "grid_template_rows": null,
      "height": null,
      "justify_content": null,
      "justify_items": null,
      "left": null,
      "margin": null,
      "max_height": null,
      "max_width": null,
      "min_height": null,
      "min_width": null,
      "object_fit": null,
      "object_position": null,
      "order": null,
      "overflow": null,
      "overflow_x": null,
      "overflow_y": null,
      "padding": null,
      "right": null,
      "top": null,
      "visibility": null,
      "width": null
     }
    },
    "670954dc07b748569ba9bbd5fe602dc6": {
     "model_module": "@jupyter-widgets/base",
     "model_module_version": "1.2.0",
     "model_name": "LayoutModel",
     "state": {
      "_model_module": "@jupyter-widgets/base",
      "_model_module_version": "1.2.0",
      "_model_name": "LayoutModel",
      "_view_count": null,
      "_view_module": "@jupyter-widgets/base",
      "_view_module_version": "1.2.0",
      "_view_name": "LayoutView",
      "align_content": null,
      "align_items": null,
      "align_self": null,
      "border": null,
      "bottom": null,
      "display": null,
      "flex": null,
      "flex_flow": null,
      "grid_area": null,
      "grid_auto_columns": null,
      "grid_auto_flow": null,
      "grid_auto_rows": null,
      "grid_column": null,
      "grid_gap": null,
      "grid_row": null,
      "grid_template_areas": null,
      "grid_template_columns": null,
      "grid_template_rows": null,
      "height": null,
      "justify_content": null,
      "justify_items": null,
      "left": null,
      "margin": null,
      "max_height": null,
      "max_width": null,
      "min_height": null,
      "min_width": null,
      "object_fit": null,
      "object_position": null,
      "order": null,
      "overflow": null,
      "overflow_x": null,
      "overflow_y": null,
      "padding": null,
      "right": null,
      "top": null,
      "visibility": null,
      "width": null
     }
    },
    "68eb70fb420f4417884f428c92f9ef82": {
     "model_module": "@jupyter-widgets/controls",
     "model_module_version": "1.5.0",
     "model_name": "HTMLModel",
     "state": {
      "_dom_classes": [],
      "_model_module": "@jupyter-widgets/controls",
      "_model_module_version": "1.5.0",
      "_model_name": "HTMLModel",
      "_view_count": null,
      "_view_module": "@jupyter-widgets/controls",
      "_view_module_version": "1.5.0",
      "_view_name": "HTMLView",
      "description": "",
      "description_tooltip": null,
      "layout": "IPY_MODEL_4833053dc689403b945c8af657354e21",
      "placeholder": "​",
      "style": "IPY_MODEL_3f7ba9c040b2466289690855211d0fe9",
      "value": "Downloading: 100%"
     }
    },
    "6d735634a2f747d19058258aab39a308": {
     "model_module": "@jupyter-widgets/controls",
     "model_module_version": "1.5.0",
     "model_name": "DescriptionStyleModel",
     "state": {
      "_model_module": "@jupyter-widgets/controls",
      "_model_module_version": "1.5.0",
      "_model_name": "DescriptionStyleModel",
      "_view_count": null,
      "_view_module": "@jupyter-widgets/base",
      "_view_module_version": "1.2.0",
      "_view_name": "StyleView",
      "description_width": ""
     }
    },
    "72433fd500b24e7ea6a2c3d0bc282043": {
     "model_module": "@jupyter-widgets/controls",
     "model_module_version": "1.5.0",
     "model_name": "FloatProgressModel",
     "state": {
      "_dom_classes": [],
      "_model_module": "@jupyter-widgets/controls",
      "_model_module_version": "1.5.0",
      "_model_name": "FloatProgressModel",
      "_view_count": null,
      "_view_module": "@jupyter-widgets/controls",
      "_view_module_version": "1.5.0",
      "_view_name": "ProgressView",
      "bar_style": "success",
      "description": "",
      "description_tooltip": null,
      "layout": "IPY_MODEL_9d117e651f0b49b7afe66b4e3ad6ceaf",
      "max": 1,
      "min": 0,
      "orientation": "horizontal",
      "style": "IPY_MODEL_2b92c20d6438403599a8d96a5f241994",
      "value": 1
     }
    },
    "75f1a2b5517540c9af15357f15a2565a": {
     "model_module": "@jupyter-widgets/base",
     "model_module_version": "1.2.0",
     "model_name": "LayoutModel",
     "state": {
      "_model_module": "@jupyter-widgets/base",
      "_model_module_version": "1.2.0",
      "_model_name": "LayoutModel",
      "_view_count": null,
      "_view_module": "@jupyter-widgets/base",
      "_view_module_version": "1.2.0",
      "_view_name": "LayoutView",
      "align_content": null,
      "align_items": null,
      "align_self": null,
      "border": null,
      "bottom": null,
      "display": null,
      "flex": null,
      "flex_flow": null,
      "grid_area": null,
      "grid_auto_columns": null,
      "grid_auto_flow": null,
      "grid_auto_rows": null,
      "grid_column": null,
      "grid_gap": null,
      "grid_row": null,
      "grid_template_areas": null,
      "grid_template_columns": null,
      "grid_template_rows": null,
      "height": null,
      "justify_content": null,
      "justify_items": null,
      "left": null,
      "margin": null,
      "max_height": null,
      "max_width": null,
      "min_height": null,
      "min_width": null,
      "object_fit": null,
      "object_position": null,
      "order": null,
      "overflow": null,
      "overflow_x": null,
      "overflow_y": null,
      "padding": null,
      "right": null,
      "top": null,
      "visibility": null,
      "width": null
     }
    },
    "76fa0e27cb5d4a1fbacf521701057e18": {
     "model_module": "@jupyter-widgets/base",
     "model_module_version": "1.2.0",
     "model_name": "LayoutModel",
     "state": {
      "_model_module": "@jupyter-widgets/base",
      "_model_module_version": "1.2.0",
      "_model_name": "LayoutModel",
      "_view_count": null,
      "_view_module": "@jupyter-widgets/base",
      "_view_module_version": "1.2.0",
      "_view_name": "LayoutView",
      "align_content": null,
      "align_items": null,
      "align_self": null,
      "border": null,
      "bottom": null,
      "display": null,
      "flex": null,
      "flex_flow": null,
      "grid_area": null,
      "grid_auto_columns": null,
      "grid_auto_flow": null,
      "grid_auto_rows": null,
      "grid_column": null,
      "grid_gap": null,
      "grid_row": null,
      "grid_template_areas": null,
      "grid_template_columns": null,
      "grid_template_rows": null,
      "height": null,
      "justify_content": null,
      "justify_items": null,
      "left": null,
      "margin": null,
      "max_height": null,
      "max_width": null,
      "min_height": null,
      "min_width": null,
      "object_fit": null,
      "object_position": null,
      "order": null,
      "overflow": null,
      "overflow_x": null,
      "overflow_y": null,
      "padding": null,
      "right": null,
      "top": null,
      "visibility": null,
      "width": null
     }
    },
    "7a384a0e2818447482f339a33edeb151": {
     "model_module": "@jupyter-widgets/base",
     "model_module_version": "1.2.0",
     "model_name": "LayoutModel",
     "state": {
      "_model_module": "@jupyter-widgets/base",
      "_model_module_version": "1.2.0",
      "_model_name": "LayoutModel",
      "_view_count": null,
      "_view_module": "@jupyter-widgets/base",
      "_view_module_version": "1.2.0",
      "_view_name": "LayoutView",
      "align_content": null,
      "align_items": null,
      "align_self": null,
      "border": null,
      "bottom": null,
      "display": null,
      "flex": null,
      "flex_flow": null,
      "grid_area": null,
      "grid_auto_columns": null,
      "grid_auto_flow": null,
      "grid_auto_rows": null,
      "grid_column": null,
      "grid_gap": null,
      "grid_row": null,
      "grid_template_areas": null,
      "grid_template_columns": null,
      "grid_template_rows": null,
      "height": null,
      "justify_content": null,
      "justify_items": null,
      "left": null,
      "margin": null,
      "max_height": null,
      "max_width": null,
      "min_height": null,
      "min_width": null,
      "object_fit": null,
      "object_position": null,
      "order": null,
      "overflow": null,
      "overflow_x": null,
      "overflow_y": null,
      "padding": null,
      "right": null,
      "top": null,
      "visibility": null,
      "width": null
     }
    },
    "7a3cc01cb0584b17bcbfa5d2d5eaf293": {
     "model_module": "@jupyter-widgets/controls",
     "model_module_version": "1.5.0",
     "model_name": "DescriptionStyleModel",
     "state": {
      "_model_module": "@jupyter-widgets/controls",
      "_model_module_version": "1.5.0",
      "_model_name": "DescriptionStyleModel",
      "_view_count": null,
      "_view_module": "@jupyter-widgets/base",
      "_view_module_version": "1.2.0",
      "_view_name": "StyleView",
      "description_width": ""
     }
    },
    "7a3fceb791374640ad83d67f4ea1247b": {
     "model_module": "@jupyter-widgets/controls",
     "model_module_version": "1.5.0",
     "model_name": "FloatProgressModel",
     "state": {
      "_dom_classes": [],
      "_model_module": "@jupyter-widgets/controls",
      "_model_module_version": "1.5.0",
      "_model_name": "FloatProgressModel",
      "_view_count": null,
      "_view_module": "@jupyter-widgets/controls",
      "_view_module_version": "1.5.0",
      "_view_name": "ProgressView",
      "bar_style": "success",
      "description": "",
      "description_tooltip": null,
      "layout": "IPY_MODEL_7a384a0e2818447482f339a33edeb151",
      "max": 645,
      "min": 0,
      "orientation": "horizontal",
      "style": "IPY_MODEL_cb8093c8e0974724b96975e796604ca0",
      "value": 645
     }
    },
    "7ca2de238fc04114bb9d848aa6adbea8": {
     "model_module": "@jupyter-widgets/base",
     "model_module_version": "1.2.0",
     "model_name": "LayoutModel",
     "state": {
      "_model_module": "@jupyter-widgets/base",
      "_model_module_version": "1.2.0",
      "_model_name": "LayoutModel",
      "_view_count": null,
      "_view_module": "@jupyter-widgets/base",
      "_view_module_version": "1.2.0",
      "_view_name": "LayoutView",
      "align_content": null,
      "align_items": null,
      "align_self": null,
      "border": null,
      "bottom": null,
      "display": null,
      "flex": null,
      "flex_flow": null,
      "grid_area": null,
      "grid_auto_columns": null,
      "grid_auto_flow": null,
      "grid_auto_rows": null,
      "grid_column": null,
      "grid_gap": null,
      "grid_row": null,
      "grid_template_areas": null,
      "grid_template_columns": null,
      "grid_template_rows": null,
      "height": null,
      "justify_content": null,
      "justify_items": null,
      "left": null,
      "margin": null,
      "max_height": null,
      "max_width": null,
      "min_height": null,
      "min_width": null,
      "object_fit": null,
      "object_position": null,
      "order": null,
      "overflow": null,
      "overflow_x": null,
      "overflow_y": null,
      "padding": null,
      "right": null,
      "top": null,
      "visibility": null,
      "width": null
     }
    },
    "82688b2aab474f2e8357e611d1644e9e": {
     "model_module": "@jupyter-widgets/controls",
     "model_module_version": "1.5.0",
     "model_name": "HBoxModel",
     "state": {
      "_dom_classes": [],
      "_model_module": "@jupyter-widgets/controls",
      "_model_module_version": "1.5.0",
      "_model_name": "HBoxModel",
      "_view_count": null,
      "_view_module": "@jupyter-widgets/controls",
      "_view_module_version": "1.5.0",
      "_view_name": "HBoxView",
      "box_style": "",
      "children": [
       "IPY_MODEL_1a01bb8b8cc543488100ebfb4e79b6b8",
       "IPY_MODEL_3a4df2e857ea48e68485f7061ca23fbb",
       "IPY_MODEL_12ac7627acda47b08bde09a51f514d3e"
      ],
      "layout": "IPY_MODEL_76fa0e27cb5d4a1fbacf521701057e18"
     }
    },
    "843e16f57992446e96ca0fd7d6efd73e": {
     "model_module": "@jupyter-widgets/controls",
     "model_module_version": "1.5.0",
     "model_name": "HTMLModel",
     "state": {
      "_dom_classes": [],
      "_model_module": "@jupyter-widgets/controls",
      "_model_module_version": "1.5.0",
      "_model_name": "HTMLModel",
      "_view_count": null,
      "_view_module": "@jupyter-widgets/controls",
      "_view_module_version": "1.5.0",
      "_view_name": "HTMLView",
      "description": "",
      "description_tooltip": null,
      "layout": "IPY_MODEL_8e2c6cab36444cbca26e0032c88beac8",
      "placeholder": "​",
      "style": "IPY_MODEL_7a3cc01cb0584b17bcbfa5d2d5eaf293",
      "value": " 112/112 [00:00&lt;00:00, 2.28kB/s]"
     }
    },
    "8ae42bbaa3744f7d86798e046b63086c": {
     "model_module": "@jupyter-widgets/controls",
     "model_module_version": "1.5.0",
     "model_name": "ProgressStyleModel",
     "state": {
      "_model_module": "@jupyter-widgets/controls",
      "_model_module_version": "1.5.0",
      "_model_name": "ProgressStyleModel",
      "_view_count": null,
      "_view_module": "@jupyter-widgets/base",
      "_view_module_version": "1.2.0",
      "_view_name": "StyleView",
      "bar_color": null,
      "description_width": ""
     }
    },
    "8cb26b79c99a4e6ba6570dec09f2a68b": {
     "model_module": "@jupyter-widgets/base",
     "model_module_version": "1.2.0",
     "model_name": "LayoutModel",
     "state": {
      "_model_module": "@jupyter-widgets/base",
      "_model_module_version": "1.2.0",
      "_model_name": "LayoutModel",
      "_view_count": null,
      "_view_module": "@jupyter-widgets/base",
      "_view_module_version": "1.2.0",
      "_view_name": "LayoutView",
      "align_content": null,
      "align_items": null,
      "align_self": null,
      "border": null,
      "bottom": null,
      "display": null,
      "flex": null,
      "flex_flow": null,
      "grid_area": null,
      "grid_auto_columns": null,
      "grid_auto_flow": null,
      "grid_auto_rows": null,
      "grid_column": null,
      "grid_gap": null,
      "grid_row": null,
      "grid_template_areas": null,
      "grid_template_columns": null,
      "grid_template_rows": null,
      "height": null,
      "justify_content": null,
      "justify_items": null,
      "left": null,
      "margin": null,
      "max_height": null,
      "max_width": null,
      "min_height": null,
      "min_width": null,
      "object_fit": null,
      "object_position": null,
      "order": null,
      "overflow": null,
      "overflow_x": null,
      "overflow_y": null,
      "padding": null,
      "right": null,
      "top": null,
      "visibility": null,
      "width": null
     }
    },
    "8e2c6cab36444cbca26e0032c88beac8": {
     "model_module": "@jupyter-widgets/base",
     "model_module_version": "1.2.0",
     "model_name": "LayoutModel",
     "state": {
      "_model_module": "@jupyter-widgets/base",
      "_model_module_version": "1.2.0",
      "_model_name": "LayoutModel",
      "_view_count": null,
      "_view_module": "@jupyter-widgets/base",
      "_view_module_version": "1.2.0",
      "_view_name": "LayoutView",
      "align_content": null,
      "align_items": null,
      "align_self": null,
      "border": null,
      "bottom": null,
      "display": null,
      "flex": null,
      "flex_flow": null,
      "grid_area": null,
      "grid_auto_columns": null,
      "grid_auto_flow": null,
      "grid_auto_rows": null,
      "grid_column": null,
      "grid_gap": null,
      "grid_row": null,
      "grid_template_areas": null,
      "grid_template_columns": null,
      "grid_template_rows": null,
      "height": null,
      "justify_content": null,
      "justify_items": null,
      "left": null,
      "margin": null,
      "max_height": null,
      "max_width": null,
      "min_height": null,
      "min_width": null,
      "object_fit": null,
      "object_position": null,
      "order": null,
      "overflow": null,
      "overflow_x": null,
      "overflow_y": null,
      "padding": null,
      "right": null,
      "top": null,
      "visibility": null,
      "width": null
     }
    },
    "9054e4054726483286d7036d746bbe53": {
     "model_module": "@jupyter-widgets/base",
     "model_module_version": "1.2.0",
     "model_name": "LayoutModel",
     "state": {
      "_model_module": "@jupyter-widgets/base",
      "_model_module_version": "1.2.0",
      "_model_name": "LayoutModel",
      "_view_count": null,
      "_view_module": "@jupyter-widgets/base",
      "_view_module_version": "1.2.0",
      "_view_name": "LayoutView",
      "align_content": null,
      "align_items": null,
      "align_self": null,
      "border": null,
      "bottom": null,
      "display": null,
      "flex": null,
      "flex_flow": null,
      "grid_area": null,
      "grid_auto_columns": null,
      "grid_auto_flow": null,
      "grid_auto_rows": null,
      "grid_column": null,
      "grid_gap": null,
      "grid_row": null,
      "grid_template_areas": null,
      "grid_template_columns": null,
      "grid_template_rows": null,
      "height": null,
      "justify_content": null,
      "justify_items": null,
      "left": null,
      "margin": null,
      "max_height": null,
      "max_width": null,
      "min_height": null,
      "min_width": null,
      "object_fit": null,
      "object_position": null,
      "order": null,
      "overflow": null,
      "overflow_x": null,
      "overflow_y": null,
      "padding": null,
      "right": null,
      "top": null,
      "visibility": null,
      "width": null
     }
    },
    "91fc16e46eb4494183b4459e7914ee0b": {
     "model_module": "@jupyter-widgets/controls",
     "model_module_version": "1.5.0",
     "model_name": "HTMLModel",
     "state": {
      "_dom_classes": [],
      "_model_module": "@jupyter-widgets/controls",
      "_model_module_version": "1.5.0",
      "_model_name": "HTMLModel",
      "_view_count": null,
      "_view_module": "@jupyter-widgets/controls",
      "_view_module_version": "1.5.0",
      "_view_name": "HTMLView",
      "description": "",
      "description_tooltip": null,
      "layout": "IPY_MODEL_b065edddfeb14ade9f965aa31027d41e",
      "placeholder": "​",
      "style": "IPY_MODEL_f1bb60e5a1cd4913b3ede100c3e2cf23",
      "value": "Downloading: 100%"
     }
    },
    "9693ffa3f67046e4aeb56d6e34dab61c": {
     "model_module": "@jupyter-widgets/controls",
     "model_module_version": "1.5.0",
     "model_name": "HTMLModel",
     "state": {
      "_dom_classes": [],
      "_model_module": "@jupyter-widgets/controls",
      "_model_module_version": "1.5.0",
      "_model_name": "HTMLModel",
      "_view_count": null,
      "_view_module": "@jupyter-widgets/controls",
      "_view_module_version": "1.5.0",
      "_view_name": "HTMLView",
      "description": "",
      "description_tooltip": null,
      "layout": "IPY_MODEL_52949dbe2d424dd8863b5749c5233f71",
      "placeholder": "​",
      "style": "IPY_MODEL_bd475079875e42d9aa4bace3c7f6c1ae",
      "value": " 645/645 [00:00&lt;00:00, 15.4kB/s]"
     }
    },
    "98ee7e48be6b4b2bb26fbff75471c415": {
     "model_module": "@jupyter-widgets/controls",
     "model_module_version": "1.5.0",
     "model_name": "ProgressStyleModel",
     "state": {
      "_model_module": "@jupyter-widgets/controls",
      "_model_module_version": "1.5.0",
      "_model_name": "ProgressStyleModel",
      "_view_count": null,
      "_view_module": "@jupyter-widgets/base",
      "_view_module_version": "1.2.0",
      "_view_name": "StyleView",
      "bar_color": null,
      "description_width": ""
     }
    },
    "9b7cd6ddd6f04206be47489f2ee8e246": {
     "model_module": "@jupyter-widgets/base",
     "model_module_version": "1.2.0",
     "model_name": "LayoutModel",
     "state": {
      "_model_module": "@jupyter-widgets/base",
      "_model_module_version": "1.2.0",
      "_model_name": "LayoutModel",
      "_view_count": null,
      "_view_module": "@jupyter-widgets/base",
      "_view_module_version": "1.2.0",
      "_view_name": "LayoutView",
      "align_content": null,
      "align_items": null,
      "align_self": null,
      "border": null,
      "bottom": null,
      "display": null,
      "flex": null,
      "flex_flow": null,
      "grid_area": null,
      "grid_auto_columns": null,
      "grid_auto_flow": null,
      "grid_auto_rows": null,
      "grid_column": null,
      "grid_gap": null,
      "grid_row": null,
      "grid_template_areas": null,
      "grid_template_columns": null,
      "grid_template_rows": null,
      "height": null,
      "justify_content": null,
      "justify_items": null,
      "left": null,
      "margin": null,
      "max_height": null,
      "max_width": null,
      "min_height": null,
      "min_width": null,
      "object_fit": null,
      "object_position": null,
      "order": null,
      "overflow": null,
      "overflow_x": null,
      "overflow_y": null,
      "padding": null,
      "right": null,
      "top": null,
      "visibility": null,
      "width": null
     }
    },
    "9d117e651f0b49b7afe66b4e3ad6ceaf": {
     "model_module": "@jupyter-widgets/base",
     "model_module_version": "1.2.0",
     "model_name": "LayoutModel",
     "state": {
      "_model_module": "@jupyter-widgets/base",
      "_model_module_version": "1.2.0",
      "_model_name": "LayoutModel",
      "_view_count": null,
      "_view_module": "@jupyter-widgets/base",
      "_view_module_version": "1.2.0",
      "_view_name": "LayoutView",
      "align_content": null,
      "align_items": null,
      "align_self": null,
      "border": null,
      "bottom": null,
      "display": null,
      "flex": null,
      "flex_flow": null,
      "grid_area": null,
      "grid_auto_columns": null,
      "grid_auto_flow": null,
      "grid_auto_rows": null,
      "grid_column": null,
      "grid_gap": null,
      "grid_row": null,
      "grid_template_areas": null,
      "grid_template_columns": null,
      "grid_template_rows": null,
      "height": null,
      "justify_content": null,
      "justify_items": null,
      "left": null,
      "margin": null,
      "max_height": null,
      "max_width": null,
      "min_height": null,
      "min_width": null,
      "object_fit": null,
      "object_position": null,
      "order": null,
      "overflow": null,
      "overflow_x": null,
      "overflow_y": null,
      "padding": null,
      "right": null,
      "top": null,
      "visibility": null,
      "width": null
     }
    },
    "a3d8a8cc78984d6db0ebc907817ee947": {
     "model_module": "@jupyter-widgets/base",
     "model_module_version": "1.2.0",
     "model_name": "LayoutModel",
     "state": {
      "_model_module": "@jupyter-widgets/base",
      "_model_module_version": "1.2.0",
      "_model_name": "LayoutModel",
      "_view_count": null,
      "_view_module": "@jupyter-widgets/base",
      "_view_module_version": "1.2.0",
      "_view_name": "LayoutView",
      "align_content": null,
      "align_items": null,
      "align_self": null,
      "border": null,
      "bottom": null,
      "display": null,
      "flex": null,
      "flex_flow": null,
      "grid_area": null,
      "grid_auto_columns": null,
      "grid_auto_flow": null,
      "grid_auto_rows": null,
      "grid_column": null,
      "grid_gap": null,
      "grid_row": null,
      "grid_template_areas": null,
      "grid_template_columns": null,
      "grid_template_rows": null,
      "height": null,
      "justify_content": null,
      "justify_items": null,
      "left": null,
      "margin": null,
      "max_height": null,
      "max_width": null,
      "min_height": null,
      "min_width": null,
      "object_fit": null,
      "object_position": null,
      "order": null,
      "overflow": null,
      "overflow_x": null,
      "overflow_y": null,
      "padding": null,
      "right": null,
      "top": null,
      "visibility": null,
      "width": null
     }
    },
    "a5c390ddd91a404c8d79a9e49e24c03c": {
     "model_module": "@jupyter-widgets/base",
     "model_module_version": "1.2.0",
     "model_name": "LayoutModel",
     "state": {
      "_model_module": "@jupyter-widgets/base",
      "_model_module_version": "1.2.0",
      "_model_name": "LayoutModel",
      "_view_count": null,
      "_view_module": "@jupyter-widgets/base",
      "_view_module_version": "1.2.0",
      "_view_name": "LayoutView",
      "align_content": null,
      "align_items": null,
      "align_self": null,
      "border": null,
      "bottom": null,
      "display": null,
      "flex": null,
      "flex_flow": null,
      "grid_area": null,
      "grid_auto_columns": null,
      "grid_auto_flow": null,
      "grid_auto_rows": null,
      "grid_column": null,
      "grid_gap": null,
      "grid_row": null,
      "grid_template_areas": null,
      "grid_template_columns": null,
      "grid_template_rows": null,
      "height": null,
      "justify_content": null,
      "justify_items": null,
      "left": null,
      "margin": null,
      "max_height": null,
      "max_width": null,
      "min_height": null,
      "min_width": null,
      "object_fit": null,
      "object_position": null,
      "order": null,
      "overflow": null,
      "overflow_x": null,
      "overflow_y": null,
      "padding": null,
      "right": null,
      "top": null,
      "visibility": null,
      "width": null
     }
    },
    "a799c584b5e2488f8444cb73082a922f": {
     "model_module": "@jupyter-widgets/controls",
     "model_module_version": "1.5.0",
     "model_name": "HBoxModel",
     "state": {
      "_dom_classes": [],
      "_model_module": "@jupyter-widgets/controls",
      "_model_module_version": "1.5.0",
      "_model_name": "HBoxModel",
      "_view_count": null,
      "_view_module": "@jupyter-widgets/controls",
      "_view_module_version": "1.5.0",
      "_view_name": "HBoxView",
      "box_style": "",
      "children": [
       "IPY_MODEL_c110c8edce5841a68055eaa59be44469",
       "IPY_MODEL_1a6647406b2e49f6a4016f351018d97c",
       "IPY_MODEL_27707260fd8c4ff181087567ea505aa0"
      ],
      "layout": "IPY_MODEL_670954dc07b748569ba9bbd5fe602dc6"
     }
    },
    "ab31d52526554c46a02b20c1e089ec53": {
     "model_module": "@jupyter-widgets/controls",
     "model_module_version": "1.5.0",
     "model_name": "DescriptionStyleModel",
     "state": {
      "_model_module": "@jupyter-widgets/controls",
      "_model_module_version": "1.5.0",
      "_model_name": "DescriptionStyleModel",
      "_view_count": null,
      "_view_module": "@jupyter-widgets/base",
      "_view_module_version": "1.2.0",
      "_view_name": "StyleView",
      "description_width": ""
     }
    },
    "b065edddfeb14ade9f965aa31027d41e": {
     "model_module": "@jupyter-widgets/base",
     "model_module_version": "1.2.0",
     "model_name": "LayoutModel",
     "state": {
      "_model_module": "@jupyter-widgets/base",
      "_model_module_version": "1.2.0",
      "_model_name": "LayoutModel",
      "_view_count": null,
      "_view_module": "@jupyter-widgets/base",
      "_view_module_version": "1.2.0",
      "_view_name": "LayoutView",
      "align_content": null,
      "align_items": null,
      "align_self": null,
      "border": null,
      "bottom": null,
      "display": null,
      "flex": null,
      "flex_flow": null,
      "grid_area": null,
      "grid_auto_columns": null,
      "grid_auto_flow": null,
      "grid_auto_rows": null,
      "grid_column": null,
      "grid_gap": null,
      "grid_row": null,
      "grid_template_areas": null,
      "grid_template_columns": null,
      "grid_template_rows": null,
      "height": null,
      "justify_content": null,
      "justify_items": null,
      "left": null,
      "margin": null,
      "max_height": null,
      "max_width": null,
      "min_height": null,
      "min_width": null,
      "object_fit": null,
      "object_position": null,
      "order": null,
      "overflow": null,
      "overflow_x": null,
      "overflow_y": null,
      "padding": null,
      "right": null,
      "top": null,
      "visibility": null,
      "width": null
     }
    },
    "b38ec07988fb4e73a94d07b11843ae67": {
     "model_module": "@jupyter-widgets/controls",
     "model_module_version": "1.5.0",
     "model_name": "ProgressStyleModel",
     "state": {
      "_model_module": "@jupyter-widgets/controls",
      "_model_module_version": "1.5.0",
      "_model_name": "ProgressStyleModel",
      "_view_count": null,
      "_view_module": "@jupyter-widgets/base",
      "_view_module_version": "1.2.0",
      "_view_name": "StyleView",
      "bar_color": null,
      "description_width": ""
     }
    },
    "b6d2139aa3154d298df38b0a06b8c6a8": {
     "model_module": "@jupyter-widgets/base",
     "model_module_version": "1.2.0",
     "model_name": "LayoutModel",
     "state": {
      "_model_module": "@jupyter-widgets/base",
      "_model_module_version": "1.2.0",
      "_model_name": "LayoutModel",
      "_view_count": null,
      "_view_module": "@jupyter-widgets/base",
      "_view_module_version": "1.2.0",
      "_view_name": "LayoutView",
      "align_content": null,
      "align_items": null,
      "align_self": null,
      "border": null,
      "bottom": null,
      "display": null,
      "flex": null,
      "flex_flow": null,
      "grid_area": null,
      "grid_auto_columns": null,
      "grid_auto_flow": null,
      "grid_auto_rows": null,
      "grid_column": null,
      "grid_gap": null,
      "grid_row": null,
      "grid_template_areas": null,
      "grid_template_columns": null,
      "grid_template_rows": null,
      "height": null,
      "justify_content": null,
      "justify_items": null,
      "left": null,
      "margin": null,
      "max_height": null,
      "max_width": null,
      "min_height": null,
      "min_width": null,
      "object_fit": null,
      "object_position": null,
      "order": null,
      "overflow": null,
      "overflow_x": null,
      "overflow_y": null,
      "padding": null,
      "right": null,
      "top": null,
      "visibility": null,
      "width": null
     }
    },
    "bd475079875e42d9aa4bace3c7f6c1ae": {
     "model_module": "@jupyter-widgets/controls",
     "model_module_version": "1.5.0",
     "model_name": "DescriptionStyleModel",
     "state": {
      "_model_module": "@jupyter-widgets/controls",
      "_model_module_version": "1.5.0",
      "_model_name": "DescriptionStyleModel",
      "_view_count": null,
      "_view_module": "@jupyter-widgets/base",
      "_view_module_version": "1.2.0",
      "_view_name": "StyleView",
      "description_width": ""
     }
    },
    "bdd0b4b2baeb4d9e89f05dcd8c30678a": {
     "model_module": "@jupyter-widgets/controls",
     "model_module_version": "1.5.0",
     "model_name": "DescriptionStyleModel",
     "state": {
      "_model_module": "@jupyter-widgets/controls",
      "_model_module_version": "1.5.0",
      "_model_name": "DescriptionStyleModel",
      "_view_count": null,
      "_view_module": "@jupyter-widgets/base",
      "_view_module_version": "1.2.0",
      "_view_name": "StyleView",
      "description_width": ""
     }
    },
    "be4ccc00020946eab5e3a102f8640f4c": {
     "model_module": "@jupyter-widgets/controls",
     "model_module_version": "1.5.0",
     "model_name": "FloatProgressModel",
     "state": {
      "_dom_classes": [],
      "_model_module": "@jupyter-widgets/controls",
      "_model_module_version": "1.5.0",
      "_model_name": "FloatProgressModel",
      "_view_count": null,
      "_view_module": "@jupyter-widgets/controls",
      "_view_module_version": "1.5.0",
      "_view_name": "ProgressView",
      "bar_style": "success",
      "description": "",
      "description_tooltip": null,
      "layout": "IPY_MODEL_2318e7dac76d4b4fb378539530735b11",
      "max": 17565824,
      "min": 0,
      "orientation": "horizontal",
      "style": "IPY_MODEL_30a0058c794b4266ab7b3e1030d7798a",
      "value": 17565824
     }
    },
    "c110c8edce5841a68055eaa59be44469": {
     "model_module": "@jupyter-widgets/controls",
     "model_module_version": "1.5.0",
     "model_name": "HTMLModel",
     "state": {
      "_dom_classes": [],
      "_model_module": "@jupyter-widgets/controls",
      "_model_module_version": "1.5.0",
      "_model_name": "HTMLModel",
      "_view_count": null,
      "_view_module": "@jupyter-widgets/controls",
      "_view_module_version": "1.5.0",
      "_view_name": "HTMLView",
      "description": "",
      "description_tooltip": null,
      "layout": "IPY_MODEL_75f1a2b5517540c9af15357f15a2565a",
      "placeholder": "​",
      "style": "IPY_MODEL_6d735634a2f747d19058258aab39a308",
      "value": "Downloading: 100%"
     }
    },
    "cb8093c8e0974724b96975e796604ca0": {
     "model_module": "@jupyter-widgets/controls",
     "model_module_version": "1.5.0",
     "model_name": "ProgressStyleModel",
     "state": {
      "_model_module": "@jupyter-widgets/controls",
      "_model_module_version": "1.5.0",
      "_model_name": "ProgressStyleModel",
      "_view_count": null,
      "_view_module": "@jupyter-widgets/base",
      "_view_module_version": "1.2.0",
      "_view_name": "StyleView",
      "bar_color": null,
      "description_width": ""
     }
    },
    "ce00698a3096486fa38924d3cfdf6926": {
     "model_module": "@jupyter-widgets/base",
     "model_module_version": "1.2.0",
     "model_name": "LayoutModel",
     "state": {
      "_model_module": "@jupyter-widgets/base",
      "_model_module_version": "1.2.0",
      "_model_name": "LayoutModel",
      "_view_count": null,
      "_view_module": "@jupyter-widgets/base",
      "_view_module_version": "1.2.0",
      "_view_name": "LayoutView",
      "align_content": null,
      "align_items": null,
      "align_self": null,
      "border": null,
      "bottom": null,
      "display": null,
      "flex": null,
      "flex_flow": null,
      "grid_area": null,
      "grid_auto_columns": null,
      "grid_auto_flow": null,
      "grid_auto_rows": null,
      "grid_column": null,
      "grid_gap": null,
      "grid_row": null,
      "grid_template_areas": null,
      "grid_template_columns": null,
      "grid_template_rows": null,
      "height": null,
      "justify_content": null,
      "justify_items": null,
      "left": null,
      "margin": null,
      "max_height": null,
      "max_width": null,
      "min_height": null,
      "min_width": null,
      "object_fit": null,
      "object_position": null,
      "order": null,
      "overflow": null,
      "overflow_x": null,
      "overflow_y": null,
      "padding": null,
      "right": null,
      "top": null,
      "visibility": null,
      "width": null
     }
    },
    "d5ac7c28aced4f3f90d9c1a84c45804c": {
     "model_module": "@jupyter-widgets/controls",
     "model_module_version": "1.5.0",
     "model_name": "HTMLModel",
     "state": {
      "_dom_classes": [],
      "_model_module": "@jupyter-widgets/controls",
      "_model_module_version": "1.5.0",
      "_model_name": "HTMLModel",
      "_view_count": null,
      "_view_module": "@jupyter-widgets/controls",
      "_view_module_version": "1.5.0",
      "_view_name": "HTMLView",
      "description": "",
      "description_tooltip": null,
      "layout": "IPY_MODEL_8cb26b79c99a4e6ba6570dec09f2a68b",
      "placeholder": "​",
      "style": "IPY_MODEL_fdfa57271d754952bf967e4130c33bde",
      "value": " 1/1 [00:00&lt;00:00, 19.75it/s]"
     }
    },
    "e43893a585c94fe893984dab93d2a383": {
     "model_module": "@jupyter-widgets/base",
     "model_module_version": "1.2.0",
     "model_name": "LayoutModel",
     "state": {
      "_model_module": "@jupyter-widgets/base",
      "_model_module_version": "1.2.0",
      "_model_name": "LayoutModel",
      "_view_count": null,
      "_view_module": "@jupyter-widgets/base",
      "_view_module_version": "1.2.0",
      "_view_name": "LayoutView",
      "align_content": null,
      "align_items": null,
      "align_self": null,
      "border": null,
      "bottom": null,
      "display": null,
      "flex": null,
      "flex_flow": null,
      "grid_area": null,
      "grid_auto_columns": null,
      "grid_auto_flow": null,
      "grid_auto_rows": null,
      "grid_column": null,
      "grid_gap": null,
      "grid_row": null,
      "grid_template_areas": null,
      "grid_template_columns": null,
      "grid_template_rows": null,
      "height": null,
      "justify_content": null,
      "justify_items": null,
      "left": null,
      "margin": null,
      "max_height": null,
      "max_width": null,
      "min_height": null,
      "min_width": null,
      "object_fit": null,
      "object_position": null,
      "order": null,
      "overflow": null,
      "overflow_x": null,
      "overflow_y": null,
      "padding": null,
      "right": null,
      "top": null,
      "visibility": null,
      "width": null
     }
    },
    "e4bc86d04ec141d6b75bd280f79ca70e": {
     "model_module": "@jupyter-widgets/controls",
     "model_module_version": "1.5.0",
     "model_name": "DescriptionStyleModel",
     "state": {
      "_model_module": "@jupyter-widgets/controls",
      "_model_module_version": "1.5.0",
      "_model_name": "DescriptionStyleModel",
      "_view_count": null,
      "_view_module": "@jupyter-widgets/base",
      "_view_module_version": "1.2.0",
      "_view_name": "StyleView",
      "description_width": ""
     }
    },
    "ec0c9ac099104a3cb8e78f9b6fa1ce60": {
     "model_module": "@jupyter-widgets/controls",
     "model_module_version": "1.5.0",
     "model_name": "DescriptionStyleModel",
     "state": {
      "_model_module": "@jupyter-widgets/controls",
      "_model_module_version": "1.5.0",
      "_model_name": "DescriptionStyleModel",
      "_view_count": null,
      "_view_module": "@jupyter-widgets/base",
      "_view_module_version": "1.2.0",
      "_view_name": "StyleView",
      "description_width": ""
     }
    },
    "ee3ec0487c61417d9450649a3a63aa12": {
     "model_module": "@jupyter-widgets/base",
     "model_module_version": "1.2.0",
     "model_name": "LayoutModel",
     "state": {
      "_model_module": "@jupyter-widgets/base",
      "_model_module_version": "1.2.0",
      "_model_name": "LayoutModel",
      "_view_count": null,
      "_view_module": "@jupyter-widgets/base",
      "_view_module_version": "1.2.0",
      "_view_name": "LayoutView",
      "align_content": null,
      "align_items": null,
      "align_self": null,
      "border": null,
      "bottom": null,
      "display": null,
      "flex": null,
      "flex_flow": null,
      "grid_area": null,
      "grid_auto_columns": null,
      "grid_auto_flow": null,
      "grid_auto_rows": null,
      "grid_column": null,
      "grid_gap": null,
      "grid_row": null,
      "grid_template_areas": null,
      "grid_template_columns": null,
      "grid_template_rows": null,
      "height": null,
      "justify_content": null,
      "justify_items": null,
      "left": null,
      "margin": null,
      "max_height": null,
      "max_width": null,
      "min_height": null,
      "min_width": null,
      "object_fit": null,
      "object_position": null,
      "order": null,
      "overflow": null,
      "overflow_x": null,
      "overflow_y": null,
      "padding": null,
      "right": null,
      "top": null,
      "visibility": null,
      "width": null
     }
    },
    "f1bb60e5a1cd4913b3ede100c3e2cf23": {
     "model_module": "@jupyter-widgets/controls",
     "model_module_version": "1.5.0",
     "model_name": "DescriptionStyleModel",
     "state": {
      "_model_module": "@jupyter-widgets/controls",
      "_model_module_version": "1.5.0",
      "_model_name": "DescriptionStyleModel",
      "_view_count": null,
      "_view_module": "@jupyter-widgets/base",
      "_view_module_version": "1.2.0",
      "_view_name": "StyleView",
      "description_width": ""
     }
    },
    "f82d22d294764758812e35731bb04352": {
     "model_module": "@jupyter-widgets/controls",
     "model_module_version": "1.5.0",
     "model_name": "HTMLModel",
     "state": {
      "_dom_classes": [],
      "_model_module": "@jupyter-widgets/controls",
      "_model_module_version": "1.5.0",
      "_model_name": "HTMLModel",
      "_view_count": null,
      "_view_module": "@jupyter-widgets/controls",
      "_view_module_version": "1.5.0",
      "_view_name": "HTMLView",
      "description": "",
      "description_tooltip": null,
      "layout": "IPY_MODEL_48f4cbcdbfcd42ad8dc5cbf367a70174",
      "placeholder": "​",
      "style": "IPY_MODEL_e4bc86d04ec141d6b75bd280f79ca70e",
      "value": "Downloading: 100%"
     }
    },
    "fdfa57271d754952bf967e4130c33bde": {
     "model_module": "@jupyter-widgets/controls",
     "model_module_version": "1.5.0",
     "model_name": "DescriptionStyleModel",
     "state": {
      "_model_module": "@jupyter-widgets/controls",
      "_model_module_version": "1.5.0",
      "_model_name": "DescriptionStyleModel",
      "_view_count": null,
      "_view_module": "@jupyter-widgets/base",
      "_view_module_version": "1.2.0",
      "_view_name": "StyleView",
      "description_width": ""
     }
    },
    "fffffbe5ed2842729d4281d720cd1bff": {
     "model_module": "@jupyter-widgets/controls",
     "model_module_version": "1.5.0",
     "model_name": "HBoxModel",
     "state": {
      "_dom_classes": [],
      "_model_module": "@jupyter-widgets/controls",
      "_model_module_version": "1.5.0",
      "_model_name": "HBoxModel",
      "_view_count": null,
      "_view_module": "@jupyter-widgets/controls",
      "_view_module_version": "1.5.0",
      "_view_name": "HBoxView",
      "box_style": "",
      "children": [
       "IPY_MODEL_f82d22d294764758812e35731bb04352",
       "IPY_MODEL_7a3fceb791374640ad83d67f4ea1247b",
       "IPY_MODEL_9693ffa3f67046e4aeb56d6e34dab61c"
      ],
      "layout": "IPY_MODEL_a5c390ddd91a404c8d79a9e49e24c03c"
     }
    }
   }
  }
 },
 "nbformat": 4,
 "nbformat_minor": 1
}
